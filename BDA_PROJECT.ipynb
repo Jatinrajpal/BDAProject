{
  "nbformat": 4,
  "nbformat_minor": 0,
  "metadata": {
    "colab": {
      "name": "BDA_PROJECT.ipynb",
      "provenance": [],
      "collapsed_sections": [],
      "include_colab_link": true
    },
    "kernelspec": {
      "name": "python3",
      "display_name": "Python 3"
    },
    "language_info": {
      "name": "python"
    },
    "accelerator": "GPU",
    "widgets": {
      "application/vnd.jupyter.widget-state+json": {
        "09478391fab04153909a9fddb25a6134": {
          "model_module": "@jupyter-widgets/controls",
          "model_name": "HBoxModel",
          "state": {
            "_view_name": "HBoxView",
            "_dom_classes": [],
            "_model_name": "HBoxModel",
            "_view_module": "@jupyter-widgets/controls",
            "_model_module_version": "1.5.0",
            "_view_count": null,
            "_view_module_version": "1.5.0",
            "box_style": "",
            "layout": "IPY_MODEL_9f1262e2087d42d28fd612b95ef1fb30",
            "_model_module": "@jupyter-widgets/controls",
            "children": [
              "IPY_MODEL_ae8b7736dede43aabf733b9cdab82c0b",
              "IPY_MODEL_c6d6cb7ce12b4271ac5fa51aedb4b491"
            ]
          }
        },
        "9f1262e2087d42d28fd612b95ef1fb30": {
          "model_module": "@jupyter-widgets/base",
          "model_name": "LayoutModel",
          "state": {
            "_view_name": "LayoutView",
            "grid_template_rows": null,
            "right": null,
            "justify_content": null,
            "_view_module": "@jupyter-widgets/base",
            "overflow": null,
            "_model_module_version": "1.2.0",
            "_view_count": null,
            "flex_flow": null,
            "width": null,
            "min_width": null,
            "border": null,
            "align_items": null,
            "bottom": null,
            "_model_module": "@jupyter-widgets/base",
            "top": null,
            "grid_column": null,
            "overflow_y": null,
            "overflow_x": null,
            "grid_auto_flow": null,
            "grid_area": null,
            "grid_template_columns": null,
            "flex": null,
            "_model_name": "LayoutModel",
            "justify_items": null,
            "grid_row": null,
            "max_height": null,
            "align_content": null,
            "visibility": null,
            "align_self": null,
            "height": null,
            "min_height": null,
            "padding": null,
            "grid_auto_rows": null,
            "grid_gap": null,
            "max_width": null,
            "order": null,
            "_view_module_version": "1.2.0",
            "grid_template_areas": null,
            "object_position": null,
            "object_fit": null,
            "grid_auto_columns": null,
            "margin": null,
            "display": null,
            "left": null
          }
        },
        "ae8b7736dede43aabf733b9cdab82c0b": {
          "model_module": "@jupyter-widgets/controls",
          "model_name": "FloatProgressModel",
          "state": {
            "_view_name": "ProgressView",
            "style": "IPY_MODEL_5c086472cd8b43619726e7ad5ec0b29a",
            "_dom_classes": [],
            "description": "",
            "_model_name": "FloatProgressModel",
            "bar_style": "success",
            "max": 26421880,
            "_view_module": "@jupyter-widgets/controls",
            "_model_module_version": "1.5.0",
            "value": 26421880,
            "_view_count": null,
            "_view_module_version": "1.5.0",
            "orientation": "horizontal",
            "min": 0,
            "description_tooltip": null,
            "_model_module": "@jupyter-widgets/controls",
            "layout": "IPY_MODEL_232914410bf14d02ab5076dfcd9966c1"
          }
        },
        "c6d6cb7ce12b4271ac5fa51aedb4b491": {
          "model_module": "@jupyter-widgets/controls",
          "model_name": "HTMLModel",
          "state": {
            "_view_name": "HTMLView",
            "style": "IPY_MODEL_223a5cba5d894315a487b2c2ee7dc007",
            "_dom_classes": [],
            "description": "",
            "_model_name": "HTMLModel",
            "placeholder": "​",
            "_view_module": "@jupyter-widgets/controls",
            "_model_module_version": "1.5.0",
            "value": " 26422272/? [00:01&lt;00:00, 15296745.71it/s]",
            "_view_count": null,
            "_view_module_version": "1.5.0",
            "description_tooltip": null,
            "_model_module": "@jupyter-widgets/controls",
            "layout": "IPY_MODEL_92ea45b40e8749f19d562decd05ae144"
          }
        },
        "5c086472cd8b43619726e7ad5ec0b29a": {
          "model_module": "@jupyter-widgets/controls",
          "model_name": "ProgressStyleModel",
          "state": {
            "_view_name": "StyleView",
            "_model_name": "ProgressStyleModel",
            "description_width": "initial",
            "_view_module": "@jupyter-widgets/base",
            "_model_module_version": "1.5.0",
            "_view_count": null,
            "_view_module_version": "1.2.0",
            "bar_color": null,
            "_model_module": "@jupyter-widgets/controls"
          }
        },
        "232914410bf14d02ab5076dfcd9966c1": {
          "model_module": "@jupyter-widgets/base",
          "model_name": "LayoutModel",
          "state": {
            "_view_name": "LayoutView",
            "grid_template_rows": null,
            "right": null,
            "justify_content": null,
            "_view_module": "@jupyter-widgets/base",
            "overflow": null,
            "_model_module_version": "1.2.0",
            "_view_count": null,
            "flex_flow": null,
            "width": null,
            "min_width": null,
            "border": null,
            "align_items": null,
            "bottom": null,
            "_model_module": "@jupyter-widgets/base",
            "top": null,
            "grid_column": null,
            "overflow_y": null,
            "overflow_x": null,
            "grid_auto_flow": null,
            "grid_area": null,
            "grid_template_columns": null,
            "flex": null,
            "_model_name": "LayoutModel",
            "justify_items": null,
            "grid_row": null,
            "max_height": null,
            "align_content": null,
            "visibility": null,
            "align_self": null,
            "height": null,
            "min_height": null,
            "padding": null,
            "grid_auto_rows": null,
            "grid_gap": null,
            "max_width": null,
            "order": null,
            "_view_module_version": "1.2.0",
            "grid_template_areas": null,
            "object_position": null,
            "object_fit": null,
            "grid_auto_columns": null,
            "margin": null,
            "display": null,
            "left": null
          }
        },
        "223a5cba5d894315a487b2c2ee7dc007": {
          "model_module": "@jupyter-widgets/controls",
          "model_name": "DescriptionStyleModel",
          "state": {
            "_view_name": "StyleView",
            "_model_name": "DescriptionStyleModel",
            "description_width": "",
            "_view_module": "@jupyter-widgets/base",
            "_model_module_version": "1.5.0",
            "_view_count": null,
            "_view_module_version": "1.2.0",
            "_model_module": "@jupyter-widgets/controls"
          }
        },
        "92ea45b40e8749f19d562decd05ae144": {
          "model_module": "@jupyter-widgets/base",
          "model_name": "LayoutModel",
          "state": {
            "_view_name": "LayoutView",
            "grid_template_rows": null,
            "right": null,
            "justify_content": null,
            "_view_module": "@jupyter-widgets/base",
            "overflow": null,
            "_model_module_version": "1.2.0",
            "_view_count": null,
            "flex_flow": null,
            "width": null,
            "min_width": null,
            "border": null,
            "align_items": null,
            "bottom": null,
            "_model_module": "@jupyter-widgets/base",
            "top": null,
            "grid_column": null,
            "overflow_y": null,
            "overflow_x": null,
            "grid_auto_flow": null,
            "grid_area": null,
            "grid_template_columns": null,
            "flex": null,
            "_model_name": "LayoutModel",
            "justify_items": null,
            "grid_row": null,
            "max_height": null,
            "align_content": null,
            "visibility": null,
            "align_self": null,
            "height": null,
            "min_height": null,
            "padding": null,
            "grid_auto_rows": null,
            "grid_gap": null,
            "max_width": null,
            "order": null,
            "_view_module_version": "1.2.0",
            "grid_template_areas": null,
            "object_position": null,
            "object_fit": null,
            "grid_auto_columns": null,
            "margin": null,
            "display": null,
            "left": null
          }
        },
        "6c4cbcb0bd2a42718edf34d8367ba1bc": {
          "model_module": "@jupyter-widgets/controls",
          "model_name": "HBoxModel",
          "state": {
            "_view_name": "HBoxView",
            "_dom_classes": [],
            "_model_name": "HBoxModel",
            "_view_module": "@jupyter-widgets/controls",
            "_model_module_version": "1.5.0",
            "_view_count": null,
            "_view_module_version": "1.5.0",
            "box_style": "",
            "layout": "IPY_MODEL_e282d1ec3d074044ad9bde4282900eb7",
            "_model_module": "@jupyter-widgets/controls",
            "children": [
              "IPY_MODEL_9db98cea3ebe45a89c12c385c514cc8a",
              "IPY_MODEL_087fa2fb15284bfa848a8a957ad23409"
            ]
          }
        },
        "e282d1ec3d074044ad9bde4282900eb7": {
          "model_module": "@jupyter-widgets/base",
          "model_name": "LayoutModel",
          "state": {
            "_view_name": "LayoutView",
            "grid_template_rows": null,
            "right": null,
            "justify_content": null,
            "_view_module": "@jupyter-widgets/base",
            "overflow": null,
            "_model_module_version": "1.2.0",
            "_view_count": null,
            "flex_flow": null,
            "width": null,
            "min_width": null,
            "border": null,
            "align_items": null,
            "bottom": null,
            "_model_module": "@jupyter-widgets/base",
            "top": null,
            "grid_column": null,
            "overflow_y": null,
            "overflow_x": null,
            "grid_auto_flow": null,
            "grid_area": null,
            "grid_template_columns": null,
            "flex": null,
            "_model_name": "LayoutModel",
            "justify_items": null,
            "grid_row": null,
            "max_height": null,
            "align_content": null,
            "visibility": null,
            "align_self": null,
            "height": null,
            "min_height": null,
            "padding": null,
            "grid_auto_rows": null,
            "grid_gap": null,
            "max_width": null,
            "order": null,
            "_view_module_version": "1.2.0",
            "grid_template_areas": null,
            "object_position": null,
            "object_fit": null,
            "grid_auto_columns": null,
            "margin": null,
            "display": null,
            "left": null
          }
        },
        "9db98cea3ebe45a89c12c385c514cc8a": {
          "model_module": "@jupyter-widgets/controls",
          "model_name": "FloatProgressModel",
          "state": {
            "_view_name": "ProgressView",
            "style": "IPY_MODEL_7498fc7f3e954397b5efdc84cc53e1d1",
            "_dom_classes": [],
            "description": "",
            "_model_name": "FloatProgressModel",
            "bar_style": "success",
            "max": 29515,
            "_view_module": "@jupyter-widgets/controls",
            "_model_module_version": "1.5.0",
            "value": 29515,
            "_view_count": null,
            "_view_module_version": "1.5.0",
            "orientation": "horizontal",
            "min": 0,
            "description_tooltip": null,
            "_model_module": "@jupyter-widgets/controls",
            "layout": "IPY_MODEL_37d54505eb1f484e89e2e3f96c86abb2"
          }
        },
        "087fa2fb15284bfa848a8a957ad23409": {
          "model_module": "@jupyter-widgets/controls",
          "model_name": "HTMLModel",
          "state": {
            "_view_name": "HTMLView",
            "style": "IPY_MODEL_7338709224a346288f7a219572e52196",
            "_dom_classes": [],
            "description": "",
            "_model_name": "HTMLModel",
            "placeholder": "​",
            "_view_module": "@jupyter-widgets/controls",
            "_model_module_version": "1.5.0",
            "value": " 29696/? [00:00&lt;00:00, 559874.01it/s]",
            "_view_count": null,
            "_view_module_version": "1.5.0",
            "description_tooltip": null,
            "_model_module": "@jupyter-widgets/controls",
            "layout": "IPY_MODEL_856e4e2a68014ae4892867bef75ce350"
          }
        },
        "7498fc7f3e954397b5efdc84cc53e1d1": {
          "model_module": "@jupyter-widgets/controls",
          "model_name": "ProgressStyleModel",
          "state": {
            "_view_name": "StyleView",
            "_model_name": "ProgressStyleModel",
            "description_width": "initial",
            "_view_module": "@jupyter-widgets/base",
            "_model_module_version": "1.5.0",
            "_view_count": null,
            "_view_module_version": "1.2.0",
            "bar_color": null,
            "_model_module": "@jupyter-widgets/controls"
          }
        },
        "37d54505eb1f484e89e2e3f96c86abb2": {
          "model_module": "@jupyter-widgets/base",
          "model_name": "LayoutModel",
          "state": {
            "_view_name": "LayoutView",
            "grid_template_rows": null,
            "right": null,
            "justify_content": null,
            "_view_module": "@jupyter-widgets/base",
            "overflow": null,
            "_model_module_version": "1.2.0",
            "_view_count": null,
            "flex_flow": null,
            "width": null,
            "min_width": null,
            "border": null,
            "align_items": null,
            "bottom": null,
            "_model_module": "@jupyter-widgets/base",
            "top": null,
            "grid_column": null,
            "overflow_y": null,
            "overflow_x": null,
            "grid_auto_flow": null,
            "grid_area": null,
            "grid_template_columns": null,
            "flex": null,
            "_model_name": "LayoutModel",
            "justify_items": null,
            "grid_row": null,
            "max_height": null,
            "align_content": null,
            "visibility": null,
            "align_self": null,
            "height": null,
            "min_height": null,
            "padding": null,
            "grid_auto_rows": null,
            "grid_gap": null,
            "max_width": null,
            "order": null,
            "_view_module_version": "1.2.0",
            "grid_template_areas": null,
            "object_position": null,
            "object_fit": null,
            "grid_auto_columns": null,
            "margin": null,
            "display": null,
            "left": null
          }
        },
        "7338709224a346288f7a219572e52196": {
          "model_module": "@jupyter-widgets/controls",
          "model_name": "DescriptionStyleModel",
          "state": {
            "_view_name": "StyleView",
            "_model_name": "DescriptionStyleModel",
            "description_width": "",
            "_view_module": "@jupyter-widgets/base",
            "_model_module_version": "1.5.0",
            "_view_count": null,
            "_view_module_version": "1.2.0",
            "_model_module": "@jupyter-widgets/controls"
          }
        },
        "856e4e2a68014ae4892867bef75ce350": {
          "model_module": "@jupyter-widgets/base",
          "model_name": "LayoutModel",
          "state": {
            "_view_name": "LayoutView",
            "grid_template_rows": null,
            "right": null,
            "justify_content": null,
            "_view_module": "@jupyter-widgets/base",
            "overflow": null,
            "_model_module_version": "1.2.0",
            "_view_count": null,
            "flex_flow": null,
            "width": null,
            "min_width": null,
            "border": null,
            "align_items": null,
            "bottom": null,
            "_model_module": "@jupyter-widgets/base",
            "top": null,
            "grid_column": null,
            "overflow_y": null,
            "overflow_x": null,
            "grid_auto_flow": null,
            "grid_area": null,
            "grid_template_columns": null,
            "flex": null,
            "_model_name": "LayoutModel",
            "justify_items": null,
            "grid_row": null,
            "max_height": null,
            "align_content": null,
            "visibility": null,
            "align_self": null,
            "height": null,
            "min_height": null,
            "padding": null,
            "grid_auto_rows": null,
            "grid_gap": null,
            "max_width": null,
            "order": null,
            "_view_module_version": "1.2.0",
            "grid_template_areas": null,
            "object_position": null,
            "object_fit": null,
            "grid_auto_columns": null,
            "margin": null,
            "display": null,
            "left": null
          }
        },
        "07f4d20f516f4ae0ba08c04d02b2f5ba": {
          "model_module": "@jupyter-widgets/controls",
          "model_name": "HBoxModel",
          "state": {
            "_view_name": "HBoxView",
            "_dom_classes": [],
            "_model_name": "HBoxModel",
            "_view_module": "@jupyter-widgets/controls",
            "_model_module_version": "1.5.0",
            "_view_count": null,
            "_view_module_version": "1.5.0",
            "box_style": "",
            "layout": "IPY_MODEL_76c254c4da884762b579d467af34f455",
            "_model_module": "@jupyter-widgets/controls",
            "children": [
              "IPY_MODEL_7592d5ae22014646983692e9d6c4e5fc",
              "IPY_MODEL_b247b31f892a46ffa278a5151a5566c6"
            ]
          }
        },
        "76c254c4da884762b579d467af34f455": {
          "model_module": "@jupyter-widgets/base",
          "model_name": "LayoutModel",
          "state": {
            "_view_name": "LayoutView",
            "grid_template_rows": null,
            "right": null,
            "justify_content": null,
            "_view_module": "@jupyter-widgets/base",
            "overflow": null,
            "_model_module_version": "1.2.0",
            "_view_count": null,
            "flex_flow": null,
            "width": null,
            "min_width": null,
            "border": null,
            "align_items": null,
            "bottom": null,
            "_model_module": "@jupyter-widgets/base",
            "top": null,
            "grid_column": null,
            "overflow_y": null,
            "overflow_x": null,
            "grid_auto_flow": null,
            "grid_area": null,
            "grid_template_columns": null,
            "flex": null,
            "_model_name": "LayoutModel",
            "justify_items": null,
            "grid_row": null,
            "max_height": null,
            "align_content": null,
            "visibility": null,
            "align_self": null,
            "height": null,
            "min_height": null,
            "padding": null,
            "grid_auto_rows": null,
            "grid_gap": null,
            "max_width": null,
            "order": null,
            "_view_module_version": "1.2.0",
            "grid_template_areas": null,
            "object_position": null,
            "object_fit": null,
            "grid_auto_columns": null,
            "margin": null,
            "display": null,
            "left": null
          }
        },
        "7592d5ae22014646983692e9d6c4e5fc": {
          "model_module": "@jupyter-widgets/controls",
          "model_name": "FloatProgressModel",
          "state": {
            "_view_name": "ProgressView",
            "style": "IPY_MODEL_519226eac19141ef80dff32673b0da4f",
            "_dom_classes": [],
            "description": "",
            "_model_name": "FloatProgressModel",
            "bar_style": "success",
            "max": 4422102,
            "_view_module": "@jupyter-widgets/controls",
            "_model_module_version": "1.5.0",
            "value": 4422102,
            "_view_count": null,
            "_view_module_version": "1.5.0",
            "orientation": "horizontal",
            "min": 0,
            "description_tooltip": null,
            "_model_module": "@jupyter-widgets/controls",
            "layout": "IPY_MODEL_050f9b99872549abb7b02c2e802cc357"
          }
        },
        "b247b31f892a46ffa278a5151a5566c6": {
          "model_module": "@jupyter-widgets/controls",
          "model_name": "HTMLModel",
          "state": {
            "_view_name": "HTMLView",
            "style": "IPY_MODEL_77ae4eafb67b48c89b41bfa9bc6d54c8",
            "_dom_classes": [],
            "description": "",
            "_model_name": "HTMLModel",
            "placeholder": "​",
            "_view_module": "@jupyter-widgets/controls",
            "_model_module_version": "1.5.0",
            "value": " 4422656/? [00:00&lt;00:00, 8573811.30it/s]",
            "_view_count": null,
            "_view_module_version": "1.5.0",
            "description_tooltip": null,
            "_model_module": "@jupyter-widgets/controls",
            "layout": "IPY_MODEL_e382ec58ff7746b09dbdecfbc392fd7b"
          }
        },
        "519226eac19141ef80dff32673b0da4f": {
          "model_module": "@jupyter-widgets/controls",
          "model_name": "ProgressStyleModel",
          "state": {
            "_view_name": "StyleView",
            "_model_name": "ProgressStyleModel",
            "description_width": "initial",
            "_view_module": "@jupyter-widgets/base",
            "_model_module_version": "1.5.0",
            "_view_count": null,
            "_view_module_version": "1.2.0",
            "bar_color": null,
            "_model_module": "@jupyter-widgets/controls"
          }
        },
        "050f9b99872549abb7b02c2e802cc357": {
          "model_module": "@jupyter-widgets/base",
          "model_name": "LayoutModel",
          "state": {
            "_view_name": "LayoutView",
            "grid_template_rows": null,
            "right": null,
            "justify_content": null,
            "_view_module": "@jupyter-widgets/base",
            "overflow": null,
            "_model_module_version": "1.2.0",
            "_view_count": null,
            "flex_flow": null,
            "width": null,
            "min_width": null,
            "border": null,
            "align_items": null,
            "bottom": null,
            "_model_module": "@jupyter-widgets/base",
            "top": null,
            "grid_column": null,
            "overflow_y": null,
            "overflow_x": null,
            "grid_auto_flow": null,
            "grid_area": null,
            "grid_template_columns": null,
            "flex": null,
            "_model_name": "LayoutModel",
            "justify_items": null,
            "grid_row": null,
            "max_height": null,
            "align_content": null,
            "visibility": null,
            "align_self": null,
            "height": null,
            "min_height": null,
            "padding": null,
            "grid_auto_rows": null,
            "grid_gap": null,
            "max_width": null,
            "order": null,
            "_view_module_version": "1.2.0",
            "grid_template_areas": null,
            "object_position": null,
            "object_fit": null,
            "grid_auto_columns": null,
            "margin": null,
            "display": null,
            "left": null
          }
        },
        "77ae4eafb67b48c89b41bfa9bc6d54c8": {
          "model_module": "@jupyter-widgets/controls",
          "model_name": "DescriptionStyleModel",
          "state": {
            "_view_name": "StyleView",
            "_model_name": "DescriptionStyleModel",
            "description_width": "",
            "_view_module": "@jupyter-widgets/base",
            "_model_module_version": "1.5.0",
            "_view_count": null,
            "_view_module_version": "1.2.0",
            "_model_module": "@jupyter-widgets/controls"
          }
        },
        "e382ec58ff7746b09dbdecfbc392fd7b": {
          "model_module": "@jupyter-widgets/base",
          "model_name": "LayoutModel",
          "state": {
            "_view_name": "LayoutView",
            "grid_template_rows": null,
            "right": null,
            "justify_content": null,
            "_view_module": "@jupyter-widgets/base",
            "overflow": null,
            "_model_module_version": "1.2.0",
            "_view_count": null,
            "flex_flow": null,
            "width": null,
            "min_width": null,
            "border": null,
            "align_items": null,
            "bottom": null,
            "_model_module": "@jupyter-widgets/base",
            "top": null,
            "grid_column": null,
            "overflow_y": null,
            "overflow_x": null,
            "grid_auto_flow": null,
            "grid_area": null,
            "grid_template_columns": null,
            "flex": null,
            "_model_name": "LayoutModel",
            "justify_items": null,
            "grid_row": null,
            "max_height": null,
            "align_content": null,
            "visibility": null,
            "align_self": null,
            "height": null,
            "min_height": null,
            "padding": null,
            "grid_auto_rows": null,
            "grid_gap": null,
            "max_width": null,
            "order": null,
            "_view_module_version": "1.2.0",
            "grid_template_areas": null,
            "object_position": null,
            "object_fit": null,
            "grid_auto_columns": null,
            "margin": null,
            "display": null,
            "left": null
          }
        },
        "ce4cb6fbe42848579a7072522bddcbe7": {
          "model_module": "@jupyter-widgets/controls",
          "model_name": "HBoxModel",
          "state": {
            "_view_name": "HBoxView",
            "_dom_classes": [],
            "_model_name": "HBoxModel",
            "_view_module": "@jupyter-widgets/controls",
            "_model_module_version": "1.5.0",
            "_view_count": null,
            "_view_module_version": "1.5.0",
            "box_style": "",
            "layout": "IPY_MODEL_d1a33386797e486d85a0561983d2909c",
            "_model_module": "@jupyter-widgets/controls",
            "children": [
              "IPY_MODEL_d567cb6f36404712a258a99e91dfc4a5",
              "IPY_MODEL_0584580a864248e8baa0f3914311f76d"
            ]
          }
        },
        "d1a33386797e486d85a0561983d2909c": {
          "model_module": "@jupyter-widgets/base",
          "model_name": "LayoutModel",
          "state": {
            "_view_name": "LayoutView",
            "grid_template_rows": null,
            "right": null,
            "justify_content": null,
            "_view_module": "@jupyter-widgets/base",
            "overflow": null,
            "_model_module_version": "1.2.0",
            "_view_count": null,
            "flex_flow": null,
            "width": null,
            "min_width": null,
            "border": null,
            "align_items": null,
            "bottom": null,
            "_model_module": "@jupyter-widgets/base",
            "top": null,
            "grid_column": null,
            "overflow_y": null,
            "overflow_x": null,
            "grid_auto_flow": null,
            "grid_area": null,
            "grid_template_columns": null,
            "flex": null,
            "_model_name": "LayoutModel",
            "justify_items": null,
            "grid_row": null,
            "max_height": null,
            "align_content": null,
            "visibility": null,
            "align_self": null,
            "height": null,
            "min_height": null,
            "padding": null,
            "grid_auto_rows": null,
            "grid_gap": null,
            "max_width": null,
            "order": null,
            "_view_module_version": "1.2.0",
            "grid_template_areas": null,
            "object_position": null,
            "object_fit": null,
            "grid_auto_columns": null,
            "margin": null,
            "display": null,
            "left": null
          }
        },
        "d567cb6f36404712a258a99e91dfc4a5": {
          "model_module": "@jupyter-widgets/controls",
          "model_name": "FloatProgressModel",
          "state": {
            "_view_name": "ProgressView",
            "style": "IPY_MODEL_d0136fb6a6624da487a2c3a989ff0c89",
            "_dom_classes": [],
            "description": "",
            "_model_name": "FloatProgressModel",
            "bar_style": "success",
            "max": 5148,
            "_view_module": "@jupyter-widgets/controls",
            "_model_module_version": "1.5.0",
            "value": 5148,
            "_view_count": null,
            "_view_module_version": "1.5.0",
            "orientation": "horizontal",
            "min": 0,
            "description_tooltip": null,
            "_model_module": "@jupyter-widgets/controls",
            "layout": "IPY_MODEL_3c9e5db0bf4a47e782b6a1fb4157e166"
          }
        },
        "0584580a864248e8baa0f3914311f76d": {
          "model_module": "@jupyter-widgets/controls",
          "model_name": "HTMLModel",
          "state": {
            "_view_name": "HTMLView",
            "style": "IPY_MODEL_e891caa29438454e8f9b848dc1050215",
            "_dom_classes": [],
            "description": "",
            "_model_name": "HTMLModel",
            "placeholder": "​",
            "_view_module": "@jupyter-widgets/controls",
            "_model_module_version": "1.5.0",
            "value": " 6144/? [00:00&lt;00:00, 36816.21it/s]",
            "_view_count": null,
            "_view_module_version": "1.5.0",
            "description_tooltip": null,
            "_model_module": "@jupyter-widgets/controls",
            "layout": "IPY_MODEL_efd2ddfdea9e400a9a956a9178ee1c8e"
          }
        },
        "d0136fb6a6624da487a2c3a989ff0c89": {
          "model_module": "@jupyter-widgets/controls",
          "model_name": "ProgressStyleModel",
          "state": {
            "_view_name": "StyleView",
            "_model_name": "ProgressStyleModel",
            "description_width": "initial",
            "_view_module": "@jupyter-widgets/base",
            "_model_module_version": "1.5.0",
            "_view_count": null,
            "_view_module_version": "1.2.0",
            "bar_color": null,
            "_model_module": "@jupyter-widgets/controls"
          }
        },
        "3c9e5db0bf4a47e782b6a1fb4157e166": {
          "model_module": "@jupyter-widgets/base",
          "model_name": "LayoutModel",
          "state": {
            "_view_name": "LayoutView",
            "grid_template_rows": null,
            "right": null,
            "justify_content": null,
            "_view_module": "@jupyter-widgets/base",
            "overflow": null,
            "_model_module_version": "1.2.0",
            "_view_count": null,
            "flex_flow": null,
            "width": null,
            "min_width": null,
            "border": null,
            "align_items": null,
            "bottom": null,
            "_model_module": "@jupyter-widgets/base",
            "top": null,
            "grid_column": null,
            "overflow_y": null,
            "overflow_x": null,
            "grid_auto_flow": null,
            "grid_area": null,
            "grid_template_columns": null,
            "flex": null,
            "_model_name": "LayoutModel",
            "justify_items": null,
            "grid_row": null,
            "max_height": null,
            "align_content": null,
            "visibility": null,
            "align_self": null,
            "height": null,
            "min_height": null,
            "padding": null,
            "grid_auto_rows": null,
            "grid_gap": null,
            "max_width": null,
            "order": null,
            "_view_module_version": "1.2.0",
            "grid_template_areas": null,
            "object_position": null,
            "object_fit": null,
            "grid_auto_columns": null,
            "margin": null,
            "display": null,
            "left": null
          }
        },
        "e891caa29438454e8f9b848dc1050215": {
          "model_module": "@jupyter-widgets/controls",
          "model_name": "DescriptionStyleModel",
          "state": {
            "_view_name": "StyleView",
            "_model_name": "DescriptionStyleModel",
            "description_width": "",
            "_view_module": "@jupyter-widgets/base",
            "_model_module_version": "1.5.0",
            "_view_count": null,
            "_view_module_version": "1.2.0",
            "_model_module": "@jupyter-widgets/controls"
          }
        },
        "efd2ddfdea9e400a9a956a9178ee1c8e": {
          "model_module": "@jupyter-widgets/base",
          "model_name": "LayoutModel",
          "state": {
            "_view_name": "LayoutView",
            "grid_template_rows": null,
            "right": null,
            "justify_content": null,
            "_view_module": "@jupyter-widgets/base",
            "overflow": null,
            "_model_module_version": "1.2.0",
            "_view_count": null,
            "flex_flow": null,
            "width": null,
            "min_width": null,
            "border": null,
            "align_items": null,
            "bottom": null,
            "_model_module": "@jupyter-widgets/base",
            "top": null,
            "grid_column": null,
            "overflow_y": null,
            "overflow_x": null,
            "grid_auto_flow": null,
            "grid_area": null,
            "grid_template_columns": null,
            "flex": null,
            "_model_name": "LayoutModel",
            "justify_items": null,
            "grid_row": null,
            "max_height": null,
            "align_content": null,
            "visibility": null,
            "align_self": null,
            "height": null,
            "min_height": null,
            "padding": null,
            "grid_auto_rows": null,
            "grid_gap": null,
            "max_width": null,
            "order": null,
            "_view_module_version": "1.2.0",
            "grid_template_areas": null,
            "object_position": null,
            "object_fit": null,
            "grid_auto_columns": null,
            "margin": null,
            "display": null,
            "left": null
          }
        }
      }
    }
  },
  "cells": [
    {
      "cell_type": "markdown",
      "metadata": {
        "id": "view-in-github",
        "colab_type": "text"
      },
      "source": [
        "<a href=\"https://colab.research.google.com/github/Jatinrajpal/BDAProject/blob/main/BDA_PROJECT.ipynb\" target=\"_parent\"><img src=\"https://colab.research.google.com/assets/colab-badge.svg\" alt=\"Open In Colab\"/></a>"
      ]
    },
    {
      "cell_type": "code",
      "metadata": {
        "colab": {
          "base_uri": "https://localhost:8080/",
          "height": 551,
          "referenced_widgets": [
            "09478391fab04153909a9fddb25a6134",
            "9f1262e2087d42d28fd612b95ef1fb30",
            "ae8b7736dede43aabf733b9cdab82c0b",
            "c6d6cb7ce12b4271ac5fa51aedb4b491",
            "5c086472cd8b43619726e7ad5ec0b29a",
            "232914410bf14d02ab5076dfcd9966c1",
            "223a5cba5d894315a487b2c2ee7dc007",
            "92ea45b40e8749f19d562decd05ae144",
            "6c4cbcb0bd2a42718edf34d8367ba1bc",
            "e282d1ec3d074044ad9bde4282900eb7",
            "9db98cea3ebe45a89c12c385c514cc8a",
            "087fa2fb15284bfa848a8a957ad23409",
            "7498fc7f3e954397b5efdc84cc53e1d1",
            "37d54505eb1f484e89e2e3f96c86abb2",
            "7338709224a346288f7a219572e52196",
            "856e4e2a68014ae4892867bef75ce350",
            "07f4d20f516f4ae0ba08c04d02b2f5ba",
            "76c254c4da884762b579d467af34f455",
            "7592d5ae22014646983692e9d6c4e5fc",
            "b247b31f892a46ffa278a5151a5566c6",
            "519226eac19141ef80dff32673b0da4f",
            "050f9b99872549abb7b02c2e802cc357",
            "77ae4eafb67b48c89b41bfa9bc6d54c8",
            "e382ec58ff7746b09dbdecfbc392fd7b",
            "ce4cb6fbe42848579a7072522bddcbe7",
            "d1a33386797e486d85a0561983d2909c",
            "d567cb6f36404712a258a99e91dfc4a5",
            "0584580a864248e8baa0f3914311f76d",
            "d0136fb6a6624da487a2c3a989ff0c89",
            "3c9e5db0bf4a47e782b6a1fb4157e166",
            "e891caa29438454e8f9b848dc1050215",
            "efd2ddfdea9e400a9a956a9178ee1c8e"
          ]
        },
        "id": "1J31r06M5B0y",
        "outputId": "52fdaea1-1b07-4893-d950-4e3ea686abbd"
      },
      "source": [
        "# imports\n",
        "import matplotlib.pyplot as plt\n",
        "import numpy as np\n",
        "\n",
        "import torch\n",
        "import torchvision\n",
        "import torchvision.transforms as transforms\n",
        "\n",
        "import torch.nn as nn\n",
        "import torch.nn.functional as F\n",
        "import torch.optim as optim\n",
        "\n",
        "# transforms\n",
        "transform = transforms.Compose(\n",
        "    [transforms.ToTensor(),\n",
        "    transforms.Normalize((0.5,), (0.5,))])\n",
        "\n",
        "# datasets\n",
        "trainset = torchvision.datasets.FashionMNIST('./data',\n",
        "    download=True,\n",
        "    train=True,\n",
        "    transform=transform)\n",
        "testset = torchvision.datasets.FashionMNIST('./data',\n",
        "    download=True,\n",
        "    train=False,\n",
        "    transform=transform)\n",
        "\n",
        "# dataloaders\n",
        "trainloader = torch.utils.data.DataLoader(trainset, batch_size=8,\n",
        "                                        shuffle=True, num_workers=2)\n",
        "\n",
        "\n",
        "testloader = torch.utils.data.DataLoader(testset, batch_size=8,\n",
        "                                        shuffle=False, num_workers=2)\n",
        "\n",
        "# constant for classes\n",
        "classes = ('T-shirt/top', 'Trouser', 'Pullover', 'Dress', 'Coat','Sandal', 'Shirt', 'Sneaker', 'Bag', 'Ankle Boot')\n",
        "\n",
        "print(len(testloader))\n",
        "\n"
      ],
      "execution_count": null,
      "outputs": [
        {
          "output_type": "stream",
          "text": [
            "Downloading http://fashion-mnist.s3-website.eu-central-1.amazonaws.com/train-images-idx3-ubyte.gz\n",
            "Downloading http://fashion-mnist.s3-website.eu-central-1.amazonaws.com/train-images-idx3-ubyte.gz to ./data/FashionMNIST/raw/train-images-idx3-ubyte.gz\n"
          ],
          "name": "stdout"
        },
        {
          "output_type": "display_data",
          "data": {
            "application/vnd.jupyter.widget-view+json": {
              "model_id": "09478391fab04153909a9fddb25a6134",
              "version_minor": 0,
              "version_major": 2
            },
            "text/plain": [
              "HBox(children=(FloatProgress(value=0.0, max=26421880.0), HTML(value='')))"
            ]
          },
          "metadata": {
            "tags": []
          }
        },
        {
          "output_type": "stream",
          "text": [
            "\n",
            "Extracting ./data/FashionMNIST/raw/train-images-idx3-ubyte.gz to ./data/FashionMNIST/raw\n",
            "\n",
            "Downloading http://fashion-mnist.s3-website.eu-central-1.amazonaws.com/train-labels-idx1-ubyte.gz\n",
            "Downloading http://fashion-mnist.s3-website.eu-central-1.amazonaws.com/train-labels-idx1-ubyte.gz to ./data/FashionMNIST/raw/train-labels-idx1-ubyte.gz\n"
          ],
          "name": "stdout"
        },
        {
          "output_type": "display_data",
          "data": {
            "application/vnd.jupyter.widget-view+json": {
              "model_id": "6c4cbcb0bd2a42718edf34d8367ba1bc",
              "version_minor": 0,
              "version_major": 2
            },
            "text/plain": [
              "HBox(children=(FloatProgress(value=0.0, max=29515.0), HTML(value='')))"
            ]
          },
          "metadata": {
            "tags": []
          }
        },
        {
          "output_type": "stream",
          "text": [
            "\n",
            "Extracting ./data/FashionMNIST/raw/train-labels-idx1-ubyte.gz to ./data/FashionMNIST/raw\n",
            "\n",
            "Downloading http://fashion-mnist.s3-website.eu-central-1.amazonaws.com/t10k-images-idx3-ubyte.gz\n",
            "Downloading http://fashion-mnist.s3-website.eu-central-1.amazonaws.com/t10k-images-idx3-ubyte.gz to ./data/FashionMNIST/raw/t10k-images-idx3-ubyte.gz\n"
          ],
          "name": "stdout"
        },
        {
          "output_type": "display_data",
          "data": {
            "application/vnd.jupyter.widget-view+json": {
              "model_id": "07f4d20f516f4ae0ba08c04d02b2f5ba",
              "version_minor": 0,
              "version_major": 2
            },
            "text/plain": [
              "HBox(children=(FloatProgress(value=0.0, max=4422102.0), HTML(value='')))"
            ]
          },
          "metadata": {
            "tags": []
          }
        },
        {
          "output_type": "stream",
          "text": [
            "\n",
            "Extracting ./data/FashionMNIST/raw/t10k-images-idx3-ubyte.gz to ./data/FashionMNIST/raw\n",
            "\n",
            "Downloading http://fashion-mnist.s3-website.eu-central-1.amazonaws.com/t10k-labels-idx1-ubyte.gz\n",
            "Downloading http://fashion-mnist.s3-website.eu-central-1.amazonaws.com/t10k-labels-idx1-ubyte.gz to ./data/FashionMNIST/raw/t10k-labels-idx1-ubyte.gz\n"
          ],
          "name": "stdout"
        },
        {
          "output_type": "display_data",
          "data": {
            "application/vnd.jupyter.widget-view+json": {
              "model_id": "ce4cb6fbe42848579a7072522bddcbe7",
              "version_minor": 0,
              "version_major": 2
            },
            "text/plain": [
              "HBox(children=(FloatProgress(value=0.0, max=5148.0), HTML(value='')))"
            ]
          },
          "metadata": {
            "tags": []
          }
        },
        {
          "output_type": "stream",
          "text": [
            "\n",
            "Extracting ./data/FashionMNIST/raw/t10k-labels-idx1-ubyte.gz to ./data/FashionMNIST/raw\n",
            "\n",
            "1250\n"
          ],
          "name": "stdout"
        },
        {
          "output_type": "stream",
          "text": [
            "/usr/local/lib/python3.7/dist-packages/torchvision/datasets/mnist.py:498: UserWarning: The given NumPy array is not writeable, and PyTorch does not support non-writeable tensors. This means you can write to the underlying (supposedly non-writeable) NumPy array using the tensor. You may want to copy the array to protect its data or make it writeable before converting it to a tensor. This type of warning will be suppressed for the rest of this program. (Triggered internally at  /pytorch/torch/csrc/utils/tensor_numpy.cpp:180.)\n",
            "  return torch.from_numpy(parsed.astype(m[2], copy=False)).view(*s)\n"
          ],
          "name": "stderr"
        }
      ]
    },
    {
      "cell_type": "markdown",
      "metadata": {
        "id": "B20I4tjsyj6w"
      },
      "source": [
        "# New Section"
      ]
    },
    {
      "cell_type": "code",
      "metadata": {
        "colab": {
          "base_uri": "https://localhost:8080/",
          "height": 302
        },
        "id": "K98XzW-p-1Bu",
        "outputId": "4b023afb-d7c0-4560-d91d-197927948da6"
      },
      "source": [
        "from matplotlib import pyplot\n",
        "from keras.datasets import fashion_mnist\n",
        "# load dataset\n",
        "(trainX, trainy), (testX, testy) = fashion_mnist.load_data()\n",
        "# summarize loaded dataset\n",
        "print('Train: X=%s, y=%s' % (trainX.shape, trainy.shape))\n",
        "print('Test: X=%s, y=%s' % (testX.shape, testy.shape))\n",
        "# plot first few images\n",
        "for i in range(9):\n",
        "\t# define subplot\n",
        "\tpyplot.subplot(330 + 1 + i)\n",
        "\t# plot raw pixel data\n",
        "\tpyplot.imshow(trainX[i], cmap=pyplot.get_cmap('gray'))\n",
        "# show the figure\n",
        "pyplot.show()"
      ],
      "execution_count": null,
      "outputs": [
        {
          "output_type": "stream",
          "text": [
            "Train: X=(60000, 28, 28), y=(60000,)\n",
            "Test: X=(10000, 28, 28), y=(10000,)\n"
          ],
          "name": "stdout"
        },
        {
          "output_type": "display_data",
          "data": {
            "image/png": "[encoded data removed]",
            "text/plain": [
              "<Figure size 432x288 with 9 Axes>"
            ]
          },
          "metadata": {
            "tags": [],
            "needs_background": "light"
          }
        }
      ]
    },
    {
      "cell_type": "code",
      "metadata": {
        "id": "uxYq4_Bc5Ftg"
      },
      "source": [
        "class Net(nn.Module):\n",
        "    def __init__(self):\n",
        "        super(Net, self).__init__()\n",
        "        self.conv1 = nn.Conv2d(1, 6, 5)\n",
        "        self.pool = nn.MaxPool2d(2, 2)\n",
        "        self.conv2 = nn.Conv2d(6, 16, 5)\n",
        "        self.fc1 = nn.Linear(16 * 4 * 4, 120)\n",
        "        self.fc2 = nn.Linear(120, 84)\n",
        "        self.fc3 = nn.Linear(84, 10)\n",
        "\n",
        "    def forward(self, x):\n",
        "        x = self.pool(F.relu(self.conv1(x)))\n",
        "        x = self.pool(F.relu(self.conv2(x)))\n",
        "        x = x.view(-1, 16 * 4 * 4)\n",
        "        x = F.relu(self.fc1(x))\n",
        "        x = F.relu(self.fc2(x))\n",
        "        x = self.fc3(x)\n",
        "        return x\n",
        "\n",
        "net = Net()\n",
        "criterion = nn.CrossEntropyLoss()\n",
        "#criterion = nn.NLLLoss()\n",
        "optimizer = optim.SGD(net.parameters(), lr=0.001, momentum=0.9)\n"
      ],
      "execution_count": null,
      "outputs": []
    },
    {
      "cell_type": "code",
      "metadata": {
        "colab": {
          "base_uri": "https://localhost:8080/"
        },
        "id": "LAO9mC5M5RAp",
        "outputId": "8dc2d507-7aaa-4505-e065-ee5c4f935489"
      },
      "source": [
        "running_loss = 0.0\n",
        "accuracy = 0.0\n",
        "epochs = 1\n",
        "for epoch in range(epochs):  # loop over the dataset multiple times\n",
        "    print('Epoch-{0} lr: {1}'.format(epoch + 1, optimizer.param_groups[0]['lr']))\n",
        "    for i, data in enumerate(trainloader, 0):\n",
        "        \n",
        "        # get the inputs; data is a list of [inputs, labels]\n",
        "        inputs, labels = data\n",
        "\n",
        "        # zero the parameter gradients\n",
        "        optimizer.zero_grad()\n",
        "\n",
        "        # forward + backward + optimize\n",
        "        outputs = net(inputs)\n",
        "        loss = criterion(outputs, labels)\n",
        "        loss.backward()\n",
        "        optimizer.step()\n",
        "\n",
        "        running_loss += loss.item()\n",
        "        if i % 1000 == 999:    # every 1000 mini-batches...\n",
        "\n",
        "            # ...log the running loss\n",
        "            print(\"Training loss {} Steps: {}\".format(running_loss / 1000, epoch * len(trainloader) + i))\n",
        "            running_loss = 0.0\n",
        "print('Finished Training')\n",
        "\n"
      ],
      "execution_count": null,
      "outputs": [
        {
          "output_type": "stream",
          "text": [
            "Epoch-1 lr: 0.001\n"
          ],
          "name": "stdout"
        },
        {
          "output_type": "stream",
          "text": [
            "/usr/local/lib/python3.7/dist-packages/torch/nn/functional.py:718: UserWarning: Named tensors and all their associated APIs are an experimental feature and subject to change. Please do not use them for anything important until they are released as stable. (Triggered internally at  /pytorch/c10/core/TensorImpl.h:1156.)\n",
            "  return torch.max_pool2d(input, kernel_size, stride, padding, dilation, ceil_mode)\n"
          ],
          "name": "stderr"
        },
        {
          "output_type": "stream",
          "text": [
            "Training loss 1.7389069879949093 Steps: 999\n",
            "Training loss 0.7878974237591028 Steps: 1999\n",
            "Training loss 0.6616547779589892 Steps: 2999\n",
            "Training loss 0.5892466317266226 Steps: 3999\n",
            "Training loss 0.5350010989718139 Steps: 4999\n",
            "Training loss 0.5119860023092478 Steps: 5999\n",
            "Training loss 0.5063365052621812 Steps: 6999\n",
            "Finished Training\n"
          ],
          "name": "stdout"
        }
      ]
    },
    {
      "cell_type": "code",
      "metadata": {
        "colab": {
          "base_uri": "https://localhost:8080/",
          "height": 784
        },
        "id": "N-lpQSen5Vze",
        "outputId": "5ae6d66c-6c59-4180-beb2-b0f1850387b5"
      },
      "source": [
        "from sklearn.metrics import confusion_matrix,classification_report\n",
        "import seaborn as sn\n",
        "import pandas as pd\n",
        "\n",
        "y_pred = []\n",
        "y_true = []\n",
        "\n",
        "# iterate over test data\n",
        "print(len(testloader))\n",
        "for inputs, labels in testloader:\n",
        "        output = net(inputs) # Feed Network\n",
        "        # print(input)\n",
        "        output = (torch.max(torch.exp(output), 1)[1]).data.cpu().numpy()\n",
        "        # print(output)\n",
        "        y_pred.extend(output) # Save Prediction\n",
        "        \n",
        "        labels = labels.data.cpu().numpy()\n",
        "        # print(labels)\n",
        "        y_true.extend(labels) # Save Truth\n",
        "\n",
        "# constant for classes\n",
        "classes = ('T-shirt/top', 'Trouser', 'Pullover', 'Dress', 'Coat',\n",
        "        'Sandal', 'Shirt', 'Sneaker', 'Bag', 'Ankle Boot')\n",
        "print(y_true)\n",
        "print(y_pred)\n",
        "# Build confusion matrix\n",
        "cf_matrix = confusion_matrix(y_true, y_pred)\n",
        "df_cm = pd.DataFrame(cf_matrix/np.sum(cf_matrix) *10, index = [i for i in classes],\n",
        "                     columns = [i for i in classes])\n",
        "plt.figure(figsize = (12,7))\n",
        "sn.heatmap(df_cm, annot=True)\n",
        "plt.savefig('output.png')\n",
        "print(classification_report(y_true,y_pred,target_names=classes))\n"
      ],
      "execution_count": null,
      "outputs": [
        {
          "output_type": "stream",
          "text": [
            "1250\n",
            "[9, 2, 1, 1, 6, 1, 4, 6, 5, 7, 4, 5, 7, 3, 4, 1, 2, 4, 8, 0, 2, 5, 7, 9, 1, 4, 6, 0, 9, 3, 8, 8, 3, 3, 8, 0, 7, 5, 7, 9, 6, 1, 3, 7, 6, 7, 2, 1, 2, 2, 4, 4, 5, 8, 2, 2, 8, 4, 8, 0, 7, 7, 8, 5, 1, 1, 2, 3, 9, 8, 7, 0, 2, 6, 2, 3, 1, 2, 8, 4, 1, 8, 5, 9, 5, 0, 3, 2, 0, 6, 5, 3, 6, 7, 1, 8, 0, 1, 4, 2, 3, 6, 7, 2, 7, 8, 5, 9, 9, 4, 2, 5, 7, 0, 5, 2, 8, 6, 7, 8, 0, 0, 9, 9, 3, 0, 8, 4, 1, 5, 4, 1, 9, 1, 8, 6, 2, 1, 2, 5, 1, 0, 0, 0, 1, 6, 1, 6, 2, 2, 4, 4, 1, 4, 5, 0, 4, 7, 9, 3, 7, 2, 3, 9, 0, 9, 4, 7, 4, 2, 0, 5, 2, 1, 2, 1, 3, 0, 9, 1, 0, 9, 3, 6, 7, 9, 9, 4, 4, 7, 1, 2, 1, 6, 3, 2, 8, 3, 6, 1, 1, 0, 2, 9, 2, 4, 0, 7, 9, 8, 4, 1, 8, 4, 1, 3, 1, 6, 7, 2, 8, 5, 2, 0, 7, 7, 6, 2, 7, 0, 7, 8, 9, 2, 9, 0, 5, 1, 4, 4, 5, 6, 9, 2, 6, 8, 6, 4, 2, 2, 9, 7, 6, 5, 5, 2, 8, 5, 2, 3, 0, 4, 8, 0, 0, 6, 3, 8, 9, 6, 1, 3, 0, 2, 3, 0, 8, 3, 7, 4, 0, 1, 6, 3, 0, 6, 6, 7, 5, 4, 5, 9, 5, 6, 5, 5, 1, 9, 8, 8, 3, 3, 6, 8, 0, 0, 2, 9, 7, 7, 1, 3, 6, 4, 2, 4, 9, 1, 6, 4, 8, 2, 6, 5, 4, 6, 7, 7, 7, 3, 3, 7, 0, 7, 1, 3, 7, 2, 2, 3, 4, 0, 3, 1, 6, 1, 9, 4, 9, 9, 1, 7, 8, 3, 6, 0, 2, 4, 8, 0, 1, 2, 2, 4, 4, 7, 3, 2, 2, 5, 0, 7, 9, 4, 0, 9, 3, 9, 4, 2, 5, 0, 2, 3, 5, 8, 1, 6, 2, 6, 6, 4, 9, 5, 2, 0, 4, 6, 1, 2, 0, 9, 7, 0, 4, 4, 6, 6, 2, 1, 0, 6, 7, 2, 9, 4, 2, 1, 5, 4, 5, 3, 8, 5, 8, 4, 4, 8, 9, 8, 6, 2, 4, 4, 2, 4, 1, 6, 1, 3, 0, 9, 8, 8, 6, 5, 3, 1, 9, 5, 3, 3, 0, 1, 0, 2, 9, 2, 0, 6, 3, 4, 2, 0, 0, 3, 3, 8, 2, 8, 9, 4, 0, 7, 6, 4, 4, 9, 2, 9, 5, 9, 3, 7, 5, 7, 8, 1, 0, 0, 3, 4, 8, 9, 7, 9, 1, 2, 7, 0, 2, 0, 5, 7, 1, 8, 2, 2, 2, 2, 4, 2, 6, 1, 9, 8, 5, 1, 9, 1, 2, 8, 3, 8, 9, 2, 4, 2, 8, 8, 2, 0, 5, 8, 8, 5, 3, 9, 4, 3, 4, 4, 5, 1, 0, 1, 2, 0, 6, 9, 6, 1, 5, 1, 1, 1, 9, 3, 4, 5, 3, 6, 6, 6, 4, 6, 0, 5, 8, 3, 3, 4, 6, 7, 7, 8, 9, 0, 3, 8, 7, 6, 7, 9, 3, 4, 6, 6, 5, 0, 1, 1, 5, 9, 4, 6, 5, 7, 8, 1, 2, 9, 7, 7, 1, 0, 9, 3, 2, 9, 0, 7, 6, 8, 2, 7, 0, 2, 3, 8, 2, 2, 6, 9, 3, 0, 7, 8, 6, 2, 9, 4, 2, 6, 6, 8, 0, 4, 4, 4, 7, 5, 8, 4, 9, 1, 0, 5, 4, 4, 4, 0, 0, 4, 5, 6, 0, 4, 5, 4, 1, 3, 1, 1, 6, 4, 3, 8, 2, 8, 2, 7, 0, 4, 0, 8, 5, 0, 8, 2, 9, 0, 8, 9, 6, 4, 2, 9, 3, 4, 5, 0, 9, 5, 3, 6, 6, 8, 3, 3, 8, 1, 4, 0, 9, 7, 9, 4, 8, 9, 1, 6, 7, 3, 0, 2, 6, 7, 1, 0, 0, 8, 5, 2, 6, 6, 6, 4, 1, 5, 9, 0, 2, 1, 6, 5, 0, 0, 3, 3, 3, 8, 1, 1, 8, 5, 7, 7, 8, 7, 2, 0, 7, 3, 8, 0, 9, 7, 6, 1, 2, 6, 4, 8, 0, 6, 3, 6, 8, 4, 0, 8, 9, 2, 4, 5, 9, 1, 4, 4, 9, 2, 1, 7, 9, 5, 8, 1, 7, 7, 1, 1, 1, 6, 9, 5, 3, 8, 4, 2, 7, 4, 8, 3, 2, 4, 4, 7, 1, 4, 9, 3, 5, 8, 5, 4, 7, 2, 8, 5, 9, 3, 3, 6, 7, 1, 7, 3, 5, 4, 4, 5, 8, 3, 7, 1, 2, 6, 1, 9, 8, 2, 7, 1, 3, 7, 5, 9, 9, 1, 8, 2, 5, 7, 1, 9, 8, 1, 0, 0, 6, 1, 7, 1, 1, 5, 7, 1, 5, 2, 2, 3, 3, 1, 1, 4, 9, 4, 3, 7, 7, 0, 8, 9, 9, 6, 1, 3, 4, 0, 0, 5, 9, 2, 0, 5, 5, 1, 5, 7, 8, 7, 5, 3, 6, 4, 0, 4, 0, 6, 0, 2, 5, 5, 1, 2, 0, 9, 3, 7, 8, 6, 8, 3, 4, 7, 0, 7, 4, 8, 0, 3, 4, 4, 3, 4, 9, 0, 6, 4, 9, 1, 8, 1, 7, 5, 5, 6, 0, 2, 1, 0, 5, 4, 0, 0, 6, 7, 5, 0, 3, 5, 9, 6, 8, 0, 6, 4, 6, 2, 9, 6, 7, 7, 1, 4, 2, 6, 5, 3, 9, 9, 8, 8, 3, 0, 2, 4, 6, 6, 3, 2, 3, 5, 4, 9, 3, 4, 7, 7, 0, 3, 5, 5, 6, 0, 5, 9, 6, 3, 7, 5, 1, 9, 8, 8, 9, 9, 2, 7, 2, 2, 3, 8, 7, 6, 4, 5, 4, 3, 6, 1, 4, 9, 3, 1, 6, 5, 0, 5, 7, 5, 2, 3, 3, 9, 6, 3, 6, 0, 4, 5, 0, 4, 9, 4, 6, 3, 6, 7, 0, 2, 1, 1, 4, 4, 8, 5, 9, 0, 1, 6, 5, 1, 4, 4, 8, 4, 7, 7, 3, 8, 1, 1, 9, 8, 1, 3, 3, 7, 5, 1, 5, 7, 8, 9, 6, 3, 5, 8, 4, 4, 3, 8, 4, 5, 5, 6, 7, 1, 5, 0, 5, 4, 8, 6, 2, 1, 1, 7, 9, 6, 2, 7, 0, 4, 8, 2, 2, 6, 6, 6, 4, 9, 6, 8, 4, 5, 9, 0, 3, 9, 4, 9, 8, 7, 4, 2, 2, 5, 3, 7, 6, 7, 2, 9, 3, 7, 0, 9, 4, 8, 6, 4, 7, 6, 4, 6, 2, 0, 7, 8, 4, 2, 6, 5, 5, 6, 4, 5, 5, 8, 1, 1, 7, 4, 6, 9, 6, 8, 7, 2, 2, 1, 2, 7, 7, 6, 9, 8, 5, 1, 1, 0, 2, 0, 9, 0, 1, 9, 6, 5, 5, 2, 0, 7, 0, 2, 0, 1, 3, 1, 3, 4, 7, 2, 4, 9, 5, 2, 9, 0, 3, 4, 4, 6, 6, 5, 2, 2, 5, 6, 1, 4, 2, 5, 4, 4, 8, 0, 2, 4, 0, 6, 2, 6, 8, 3, 8, 2, 0, 4, 4, 8, 8, 4, 5, 2, 2, 3, 0, 1, 9, 0, 9, 1, 9, 6, 5, 2, 2, 7, 3, 8, 5, 0, 8, 0, 7, 5, 5, 9, 5, 0, 6, 0, 3, 4, 4, 4, 8, 7, 1, 3, 4, 0, 6, 5, 1, 6, 7, 3, 4, 8, 8, 2, 8, 9, 4, 1, 6, 5, 2, 7, 8, 5, 3, 8, 5, 4, 2, 8, 9, 8, 4, 3, 3, 8, 8, 2, 0, 9, 4, 4, 8, 1, 3, 6, 1, 9, 2, 1, 6, 2, 7, 9, 4, 6, 0, 4, 4, 2, 4, 5, 0, 2, 8, 3, 7, 6, 4, 0, 0, 5, 2, 8, 2, 4, 3, 0, 2, 1, 7, 7, 5, 4, 7, 2, 4, 7, 3, 3, 1, 3, 3, 6, 6, 1, 7, 0, 4, 7, 1, 0, 6, 5, 8, 4, 4, 7, 9, 5, 0, 7, 9, 5, 1, 2, 9, 5, 5, 3, 9, 9, 1, 2, 7, 8, 0, 1, 7, 2, 7, 1, 1, 5, 5, 6, 4, 5, 9, 5, 5, 2, 3, 9, 3, 8, 5, 2, 0, 0, 0, 5, 7, 8, 5, 2, 6, 4, 4, 7, 4, 0, 5, 1, 7, 2, 3, 6, 8, 9, 8, 7, 1, 2, 3, 2, 9, 7, 5, 6, 1, 0, 7, 1, 2, 6, 9, 3, 6, 4, 4, 3, 0, 0, 6, 3, 6, 1, 3, 5, 6, 5, 0, 9, 1, 1, 8, 2, 9, 5, 0, 5, 4, 6, 7, 1, 1, 5, 3, 8, 9, 8, 3, 8, 9, 2, 6, 1, 1, 3, 5, 2, 7, 1, 9, 9, 2, 2, 7, 0, 1, 3, 9, 6, 3, 7, 2, 8, 1, 8, 0, 7, 9, 8, 5, 8, 2, 6, 4, 0, 6, 5, 8, 3, 8, 7, 5, 7, 3, 7, 0, 7, 0, 2, 2, 5, 3, 5, 1, 1, 7, 7, 6, 3, 0, 4, 2, 8, 6, 3, 1, 4, 9, 9, 4, 5, 2, 2, 7, 8, 0, 7, 9, 1, 2, 9, 4, 7, 3, 4, 3, 3, 1, 8, 8, 5, 3, 8, 6, 3, 4, 3, 2, 0, 2, 7, 3, 6, 8, 3, 9, 7, 3, 1, 7, 5, 8, 8, 2, 0, 6, 6, 4, 6, 5, 7, 0, 6, 6, 7, 7, 3, 9, 2, 5, 9, 7, 1, 7, 2, 4, 5, 1, 3, 5, 4, 5, 0, 4, 4, 1, 4, 4, 8, 4, 5, 9, 4, 1, 1, 7, 2, 3, 5, 0, 3, 9, 7, 5, 3, 8, 8, 8, 9, 1, 1, 6, 3, 1, 6, 3, 4, 9, 9, 6, 0, 6, 9, 4, 9, 6, 6, 1, 8, 9, 2, 9, 4, 8, 0, 7, 2, 3, 6, 2, 5, 6, 1, 9, 0, 2, 2, 9, 9, 0, 8, 3, 6, 6, 6, 0, 2, 6, 6, 6, 5, 0, 2, 7, 8, 7, 4, 6, 6, 6, 5, 2, 4, 2, 9, 5, 2, 6, 7, 0, 1, 9, 5, 5, 6, 7, 7, 5, 0, 5, 0, 8, 4, 7, 9, 8, 2, 4, 7, 3, 3, 7, 7, 7, 8, 4, 9, 5, 7, 6, 5, 7, 5, 1, 3, 0, 4, 9, 9, 8, 3, 7, 0, 3, 4, 9, 3, 4, 1, 7, 9, 1, 5, 7, 2, 7, 6, 5, 5, 3, 7, 5, 5, 4, 0, 7, 3, 3, 2, 0, 2, 9, 9, 0, 3, 0, 8, 3, 8, 8, 4, 4, 1, 8, 2, 3, 5, 0, 4, 4, 3, 0, 0, 1, 0, 8, 4, 9, 0, 7, 0, 7, 7, 1, 5, 8, 7, 2, 9, 9, 1, 2, 4, 1, 1, 1, 8, 8, 1, 3, 7, 5, 2, 0, 8, 4, 8, 9, 4, 1, 3, 1, 9, 8, 1, 1, 1, 8, 0, 9, 9, 7, 6, 0, 4, 2, 1, 1, 7, 9, 4, 2, 0, 3, 6, 6, 8, 1, 7, 2, 4, 2, 2, 3, 8, 7, 1, 8, 5, 5, 7, 7, 6, 6, 2, 9, 6, 6, 0, 5, 5, 0, 2, 1, 0, 3, 5, 9, 1, 7, 2, 5, 7, 9, 8, 9, 1, 2, 8, 3, 2, 3, 6, 0, 8, 3, 8, 6, 8, 6, 0, 8, 8, 8, 2, 9, 3, 2, 0, 8, 5, 7, 0, 1, 1, 1, 9, 5, 1, 3, 3, 6, 0, 8, 2, 1, 3, 8, 8, 6, 7, 5, 6, 6, 7, 3, 3, 2, 4, 6, 5, 5, 4, 2, 3, 7, 1, 1, 7, 3, 8, 7, 2, 2, 9, 3, 9, 9, 0, 1, 5, 1, 2, 8, 1, 4, 9, 3, 4, 0, 0, 7, 6, 9, 9, 5, 5, 7, 0, 9, 3, 3, 6, 9, 8, 4, 2, 2, 3, 9, 4, 3, 6, 7, 3, 0, 4, 8, 1, 8, 7, 3, 4, 5, 2, 2, 9, 1, 9, 4, 9, 1, 6, 2, 8, 8, 7, 7, 7, 7, 2, 6, 0, 7, 5, 8, 5, 6, 0, 2, 4, 9, 2, 6, 1, 1, 9, 3, 1, 2, 2, 2, 3, 7, 5, 7, 4, 4, 4, 1, 2, 3, 5, 4, 2, 9, 1, 5, 9, 3, 6, 6, 4, 0, 1, 7, 7, 4, 6, 7, 7, 3, 0, 4, 3, 2, 7, 8, 7, 2, 8, 0, 8, 7, 4, 6, 2, 7, 0, 9, 9, 3, 1, 5, 9, 3, 1, 0, 3, 3, 5, 9, 7, 9, 8, 3, 5, 9, 3, 7, 9, 3, 4, 6, 6, 5, 7, 7, 6, 3, 5, 3, 1, 1, 9, 4, 3, 9, 5, 5, 7, 2, 4, 9, 0, 2, 1, 9, 7, 1, 5, 0, 5, 5, 0, 3, 5, 0, 3, 3, 7, 4, 2, 6, 8, 5, 9, 2, 1, 0, 5, 5, 8, 5, 3, 7, 4, 4, 3, 9, 6, 0, 0, 9, 1, 4, 3, 1, 5, 3, 8, 5, 1, 1, 2, 9, 4, 0, 5, 2, 8, 0, 2, 9, 8, 2, 4, 8, 3, 8, 0, 2, 0, 0, 4, 8, 5, 4, 9, 0, 9, 5, 8, 6, 9, 1, 2, 7, 2, 1, 6, 6, 0, 6, 5, 0, 4, 8, 5, 5, 2, 0, 3, 8, 6, 3, 1, 9, 2, 9, 7, 3, 6, 4, 8, 3, 4, 8, 5, 6, 8, 3, 3, 1, 4, 2, 0, 4, 9, 0, 2, 1, 9, 9, 8, 1, 8, 8, 3, 3, 3, 8, 5, 9, 6, 6, 8, 7, 0, 3, 0, 0, 0, 5, 7, 5, 0, 7, 9, 1, 6, 4, 8, 9, 3, 5, 6, 0, 4, 4, 7, 8, 9, 1, 8, 2, 5, 5, 3, 1, 1, 8, 8, 3, 0, 7, 0, 1, 8, 1, 6, 4, 9, 8, 9, 8, 8, 6, 9, 1, 8, 4, 2, 7, 7, 0, 5, 1, 1, 0, 6, 4, 3, 0, 4, 3, 5, 1, 6, 3, 3, 4, 4, 5, 6, 9, 8, 3, 3, 1, 0, 2, 1, 4, 4, 4, 8, 4, 9, 0, 9, 9, 5, 0, 6, 0, 5, 0, 3, 9, 8, 3, 6, 1, 9, 4, 1, 6, 4, 5, 4, 1, 6, 8, 5, 9, 4, 5, 3, 8, 8, 1, 0, 6, 8, 9, 0, 5, 6, 2, 4, 9, 3, 2, 6, 8, 5, 9, 2, 3, 1, 6, 3, 6, 2, 7, 2, 1, 2, 0, 3, 0, 4, 8, 5, 0, 8, 5, 2, 7, 8, 1, 5, 9, 8, 0, 9, 0, 9, 3, 9, 5, 7, 9, 6, 0, 7, 1, 5, 5, 9, 5, 4, 6, 2, 4, 5, 9, 7, 4, 2, 2, 9, 9, 6, 2, 1, 3, 7, 1, 8, 7, 9, 1, 8, 9, 3, 7, 7, 7, 1, 7, 4, 4, 0, 2, 4, 5, 2, 8, 9, 6, 8, 6, 0, 7, 7, 5, 0, 1, 9, 6, 0, 4, 9, 2, 2, 6, 7, 1, 0, 5, 0, 7, 2, 8, 6, 3, 6, 1, 7, 4, 8, 7, 4, 1, 7, 8, 2, 4, 4, 4, 4, 1, 8, 6, 7, 2, 9, 4, 5, 0, 6, 3, 8, 8, 2, 0, 7, 2, 4, 0, 3, 1, 0, 8, 1, 7, 7, 2, 6, 3, 1, 2, 7, 0, 0, 0, 6, 2, 7, 2, 8, 3, 6, 3, 0, 9, 7, 3, 5, 4, 9, 6, 4, 5, 0, 6, 8, 4, 0, 4, 4, 0, 4, 1, 6, 4, 3, 7, 1, 3, 6, 4, 1, 1, 5, 6, 3, 8, 3, 4, 1, 7, 4, 9, 8, 8, 4, 5, 5, 6, 7, 3, 9, 1, 0, 5, 3, 7, 0, 1, 1, 8, 3, 2, 0, 5, 9, 6, 3, 8, 1, 0, 4, 6, 2, 4, 8, 3, 4, 2, 1, 9, 1, 7, 9, 5, 7, 6, 1, 5, 8, 8, 2, 6, 4, 6, 3, 1, 6, 4, 0, 3, 9, 8, 4, 0, 8, 4, 3, 9, 7, 1, 1, 7, 5, 1, 9, 4, 4, 2, 4, 8, 6, 7, 1, 3, 0, 7, 3, 5, 8, 1, 4, 2, 3, 4, 8, 8, 8, 4, 8, 1, 8, 9, 3, 0, 6, 0, 2, 9, 7, 3, 7, 0, 1, 3, 5, 9, 3, 0, 5, 0, 5, 8, 7, 3, 6, 2, 8, 0, 0, 9, 3, 0, 5, 8, 1, 1, 2, 6, 6, 6, 8, 6, 6, 3, 3, 9, 5, 4, 3, 3, 1, 8, 1, 5, 2, 6, 0, 7, 9, 3, 2, 7, 1, 7, 6, 1, 6, 2, 6, 6, 7, 0, 4, 9, 3, 2, 5, 0, 8, 6, 2, 6, 7, 4, 2, 1, 1, 0, 3, 5, 5, 2, 6, 2, 1, 8, 0, 3, 4, 3, 4, 2, 9, 2, 8, 9, 6, 2, 0, 6, 4, 5, 4, 7, 8, 1, 6, 3, 4, 2, 9, 4, 3, 5, 1, 2, 6, 0, 1, 1, 0, 2, 6, 9, 9, 0, 1, 2, 4, 6, 7, 6, 1, 1, 7, 7, 8, 7, 6, 5, 1, 7, 0, 0, 9, 2, 1, 6, 2, 2, 5, 8, 5, 2, 7, 8, 4, 0, 9, 0, 8, 1, 3, 8, 2, 8, 2, 0, 6, 3, 8, 7, 8, 2, 6, 6, 6, 0, 4, 5, 3, 4, 1, 1, 9, 7, 0, 6, 2, 1, 4, 2, 7, 7, 1, 8, 3, 8, 7, 9, 8, 7, 2, 7, 9, 7, 2, 2, 3, 6, 3, 3, 9, 1, 1, 4, 8, 0, 9, 7, 5, 2, 8, 8, 3, 6, 3, 0, 8, 2, 2, 5, 9, 2, 6, 8, 3, 2, 8, 3, 3, 1, 1, 3, 0, 1, 8, 4, 1, 5, 8, 1, 5, 8, 0, 7, 8, 7, 5, 9, 5, 5, 3, 0, 7, 8, 4, 5, 1, 6, 4, 2, 4, 4, 7, 7, 9, 7, 2, 5, 8, 5, 8, 5, 3, 0, 9, 7, 2, 0, 6, 8, 4, 0, 7, 3, 7, 6, 8, 4, 7, 0, 0, 4, 0, 6, 7, 8, 1, 3, 8, 1, 7, 3, 6, 1, 1, 6, 6, 9, 8, 0, 8, 2, 7, 7, 1, 3, 0, 3, 0, 7, 8, 7, 6, 5, 2, 6, 7, 5, 5, 8, 9, 7, 3, 2, 4, 8, 3, 9, 5, 7, 6, 2, 6, 7, 3, 8, 5, 1, 8, 9, 2, 6, 1, 4, 2, 7, 4, 0, 4, 4, 8, 9, 7, 9, 2, 6, 8, 2, 6, 0, 6, 3, 4, 1, 5, 6, 7, 5, 0, 7, 6, 2, 0, 5, 1, 1, 3, 7, 3, 8, 8, 7, 5, 9, 9, 5, 5, 4, 0, 7, 1, 4, 6, 0, 9, 9, 4, 6, 8, 6, 5, 7, 8, 0, 2, 7, 6, 2, 4, 8, 1, 0, 4, 8, 0, 7, 5, 8, 7, 7, 5, 5, 2, 7, 6, 2, 2, 0, 3, 6, 2, 0, 3, 9, 4, 5, 4, 4, 1, 2, 5, 7, 0, 5, 0, 2, 5, 0, 4, 8, 0, 2, 7, 2, 7, 2, 3, 4, 7, 1, 2, 3, 4, 2, 2, 3, 9, 9, 2, 8, 0, 4, 0, 0, 1, 9, 3, 9, 0, 8, 3, 9, 4, 7, 9, 1, 5, 8, 1, 3, 6, 2, 4, 8, 6, 3, 3, 0, 0, 0, 3, 6, 1, 6, 8, 6, 7, 3, 0, 0, 5, 8, 8, 8, 6, 1, 0, 8, 7, 8, 5, 8, 7, 0, 7, 2, 7, 1, 5, 5, 8, 3, 2, 8, 5, 9, 9, 2, 0, 6, 7, 1, 8, 8, 8, 7, 2, 0, 9, 7, 9, 6, 9, 4, 1, 4, 7, 2, 5, 2, 6, 2, 9, 0, 7, 1, 9, 7, 6, 5, 3, 8, 4, 9, 3, 9, 5, 7, 5, 1, 3, 3, 6, 6, 7, 5, 3, 5, 5, 8, 7, 7, 4, 6, 5, 5, 6, 4, 8, 3, 0, 9, 2, 3, 2, 2, 7, 4, 0, 7, 1, 4, 8, 1, 4, 7, 8, 2, 0, 7, 2, 0, 2, 2, 2, 2, 3, 0, 5, 2, 3, 2, 8, 0, 0, 8, 4, 6, 4, 8, 3, 5, 1, 3, 9, 1, 4, 9, 6, 7, 4, 0, 0, 2, 5, 6, 2, 5, 6, 5, 1, 7, 9, 2, 6, 7, 3, 0, 2, 8, 1, 0, 9, 9, 7, 8, 4, 6, 9, 7, 7, 5, 8, 8, 7, 5, 3, 5, 5, 0, 8, 9, 7, 2, 1, 4, 7, 1, 0, 2, 3, 2, 2, 9, 4, 7, 7, 0, 5, 0, 8, 8, 6, 8, 5, 6, 0, 7, 3, 0, 2, 2, 5, 2, 0, 7, 7, 7, 1, 5, 2, 1, 8, 5, 2, 4, 8, 7, 7, 6, 7, 1, 0, 9, 5, 3, 9, 3, 5, 0, 7, 4, 2, 0, 1, 6, 5, 9, 3, 2, 8, 5, 7, 3, 1, 2, 0, 8, 1, 8, 5, 6, 9, 3, 3, 8, 0, 4, 2, 0, 6, 4, 2, 3, 4, 5, 9, 1, 1, 9, 4, 7, 6, 4, 1, 0, 0, 7, 7, 0, 7, 8, 0, 5, 6, 4, 4, 8, 9, 7, 4, 9, 5, 3, 7, 2, 4, 1, 9, 7, 8, 1, 3, 9, 3, 6, 7, 8, 6, 5, 6, 7, 9, 9, 7, 0, 6, 2, 3, 4, 2, 9, 5, 3, 9, 2, 8, 8, 6, 0, 4, 1, 9, 3, 3, 5, 1, 5, 5, 9, 2, 8, 5, 5, 9, 5, 4, 6, 7, 3, 5, 4, 2, 3, 9, 4, 8, 1, 9, 2, 6, 2, 4, 8, 8, 7, 7, 3, 9, 3, 9, 6, 8, 2, 6, 9, 0, 4, 4, 5, 7, 0, 4, 6, 4, 1, 3, 1, 6, 7, 8, 8, 9, 7, 0, 5, 7, 3, 6, 0, 4, 0, 3, 6, 8, 8, 8, 0, 2, 3, 2, 8, 8, 1, 4, 1, 1, 6, 3, 2, 2, 8, 0, 0, 4, 1, 3, 2, 7, 0, 6, 7, 9, 9, 6, 7, 0, 9, 9, 8, 4, 8, 3, 4, 0, 9, 6, 6, 4, 3, 8, 4, 3, 6, 9, 6, 4, 7, 4, 7, 8, 8, 2, 2, 8, 8, 0, 1, 5, 8, 9, 8, 7, 1, 0, 3, 6, 6, 0, 9, 3, 9, 9, 1, 5, 9, 4, 1, 7, 0, 1, 0, 5, 3, 8, 8, 4, 1, 7, 0, 5, 0, 4, 1, 7, 1, 7, 9, 6, 3, 9, 6, 2, 5, 3, 5, 8, 8, 2, 4, 7, 7, 4, 6, 0, 5, 5, 2, 6, 2, 5, 6, 8, 5, 6, 9, 1, 3, 1, 4, 5, 9, 0, 9, 0, 3, 5, 6, 1, 5, 8, 5, 6, 6, 9, 1, 9, 1, 7, 1, 8, 0, 3, 4, 0, 2, 0, 3, 3, 8, 8, 0, 3, 6, 8, 1, 1, 3, 3, 2, 2, 1, 8, 3, 2, 0, 2, 3, 2, 3, 9, 2, 3, 0, 4, 5, 7, 1, 6, 1, 0, 0, 3, 8, 5, 1, 6, 5, 4, 8, 1, 7, 1, 6, 4, 9, 4, 2, 1, 5, 3, 1, 5, 8, 7, 7, 7, 2, 7, 5, 4, 4, 2, 0, 6, 8, 9, 9, 5, 8, 0, 4, 4, 1, 3, 7, 9, 0, 0, 9, 8, 5, 3, 0, 7, 1, 9, 7, 8, 4, 0, 9, 9, 1, 2, 0, 6, 2, 2, 5, 1, 0, 4, 8, 3, 4, 8, 3, 4, 0, 0, 3, 6, 7, 2, 4, 1, 5, 2, 0, 7, 9, 9, 1, 5, 5, 9, 1, 4, 6, 1, 2, 8, 3, 5, 7, 8, 0, 4, 2, 7, 2, 7, 5, 0, 8, 7, 8, 8, 4, 9, 2, 5, 5, 9, 9, 6, 4, 2, 6, 6, 3, 8, 7, 6, 6, 7, 5, 2, 9, 0, 3, 4, 4, 8, 4, 0, 2, 7, 0, 5, 2, 6, 6, 8, 0, 6, 2, 0, 2, 5, 5, 8, 0, 7, 0, 8, 9, 0, 2, 1, 2, 5, 1, 6, 2, 9, 6, 4, 9, 9, 1, 4, 3, 1, 2, 8, 6, 3, 6, 0, 2, 0, 2, 3, 3, 5, 2, 3, 6, 6, 8, 5, 4, 0, 1, 2, 2, 2, 6, 7, 9, 6, 4, 3, 3, 6, 8, 5, 4, 4, 0, 3, 3, 5, 2, 5, 1, 5, 5, 1, 7, 5, 2, 1, 8, 8, 0, 9, 6, 0, 6, 3, 2, 1, 8, 3, 4, 2, 1, 2, 0, 3, 0, 8, 5, 1, 5, 0, 2, 0, 3, 9, 8, 2, 8, 1, 0, 2, 6, 2, 0, 3, 7, 5, 0, 6, 2, 6, 8, 4, 2, 1, 8, 6, 8, 2, 9, 2, 6, 8, 5, 2, 7, 3, 2, 2, 6, 4, 6, 8, 5, 2, 1, 5, 2, 8, 2, 9, 0, 6, 3, 6, 4, 6, 7, 7, 9, 6, 4, 9, 8, 0, 5, 8, 7, 7, 6, 7, 7, 0, 7, 7, 2, 9, 7, 4, 2, 2, 3, 8, 0, 1, 9, 8, 0, 6, 2, 8, 3, 8, 0, 7, 6, 4, 3, 8, 1, 3, 8, 7, 3, 0, 3, 4, 8, 8, 9, 1, 3, 2, 1, 4, 8, 0, 4, 6, 7, 3, 9, 4, 9, 0, 4, 6, 5, 7, 0, 8, 1, 7, 5, 4, 9, 5, 7, 3, 2, 0, 9, 8, 7, 3, 7, 7, 4, 7, 5, 8, 5, 2, 4, 6, 2, 3, 8, 9, 7, 1, 3, 4, 2, 9, 7, 1, 2, 2, 6, 0, 5, 5, 4, 5, 2, 8, 9, 4, 9, 9, 1, 4, 3, 1, 5, 5, 5, 6, 8, 1, 5, 5, 9, 5, 9, 8, 3, 1, 1, 4, 6, 6, 9, 3, 6, 4, 4, 8, 6, 5, 4, 9, 0, 2, 8, 4, 8, 6, 3, 6, 1, 4, 3, 3, 8, 4, 9, 9, 0, 7, 9, 5, 3, 1, 7, 2, 8, 4, 9, 6, 1, 6, 0, 5, 8, 1, 9, 3, 0, 8, 3, 8, 4, 2, 5, 6, 9, 0, 1, 4, 0, 7, 9, 0, 1, 3, 9, 5, 1, 4, 1, 1, 4, 8, 3, 9, 5, 4, 4, 3, 7, 7, 7, 2, 3, 9, 1, 9, 4, 4, 0, 7, 6, 6, 7, 9, 0, 6, 4, 9, 0, 4, 0, 2, 7, 9, 6, 1, 1, 2, 0, 8, 8, 7, 4, 2, 7, 5, 7, 6, 1, 8, 1, 4, 9, 8, 9, 0, 1, 0, 6, 0, 3, 0, 6, 4, 1, 9, 7, 1, 2, 2, 5, 3, 4, 1, 7, 4, 7, 0, 2, 8, 8, 1, 4, 9, 9, 6, 3, 4, 9, 3, 9, 8, 5, 3, 8, 4, 7, 1, 4, 1, 9, 6, 8, 3, 2, 4, 8, 1, 1, 5, 8, 6, 1, 6, 2, 5, 0, 9, 5, 3, 5, 0, 6, 5, 4, 8, 3, 8, 0, 2, 9, 9, 1, 5, 3, 2, 6, 5, 3, 0, 3, 0, 7, 4, 0, 2, 1, 9, 5, 1, 7, 5, 5, 5, 9, 4, 8, 4, 6, 6, 4, 6, 4, 1, 1, 2, 2, 8, 4, 9, 0, 5, 8, 1, 0, 8, 3, 2, 4, 8, 3, 0, 9, 3, 4, 9, 7, 2, 6, 2, 2, 8, 9, 6, 1, 4, 7, 7, 9, 7, 3, 2, 9, 2, 7, 3, 0, 2, 6, 7, 2, 3, 3, 1, 9, 5, 8, 2, 3, 5, 0, 0, 4, 5, 8, 3, 5, 0, 7, 7, 6, 0, 9, 5, 1, 4, 4, 5, 3, 0, 6, 1, 4, 6, 5, 4, 8, 5, 7, 3, 0, 8, 3, 5, 2, 4, 9, 8, 5, 9, 8, 1, 9, 5, 0, 1, 5, 3, 3, 3, 3, 4, 4, 3, 6, 7, 8, 0, 9, 6, 3, 0, 4, 2, 7, 3, 5, 7, 3, 7, 8, 4, 6, 2, 2, 3, 1, 0, 7, 5, 6, 6, 4, 1, 1, 4, 7, 2, 3, 5, 5, 0, 4, 4, 4, 8, 9, 9, 2, 6, 9, 8, 3, 5, 3, 1, 4, 5, 0, 1, 8, 5, 8, 6, 0, 7, 8, 9, 2, 2, 6, 3, 2, 2, 2, 8, 9, 1, 9, 7, 4, 5, 6, 3, 2, 4, 5, 6, 6, 5, 8, 6, 2, 2, 9, 4, 9, 8, 3, 0, 2, 7, 7, 5, 9, 7, 7, 3, 8, 7, 5, 9, 9, 8, 2, 1, 0, 8, 0, 2, 6, 7, 9, 2, 2, 5, 4, 3, 2, 1, 1, 9, 6, 5, 5, 4, 9, 8, 9, 6, 5, 4, 6, 0, 5, 7, 8, 4, 8, 8, 7, 4, 9, 4, 9, 6, 9, 7, 3, 9, 9, 3, 6, 0, 2, 8, 7, 9, 4, 0, 0, 4, 1, 0, 3, 8, 4, 8, 4, 4, 3, 3, 5, 7, 7, 8, 5, 6, 3, 2, 1, 8, 3, 8, 5, 4, 2, 3, 0, 8, 3, 3, 2, 9, 0, 9, 9, 0, 1, 8, 3, 0, 3, 8, 6, 8, 5, 1, 3, 0, 1, 9, 3, 5, 0, 6, 2, 3, 1, 5, 3, 2, 8, 5, 7, 8, 0, 1, 1, 0, 6, 4, 5, 9, 0, 7, 2, 3, 6, 4, 6, 3, 6, 9, 4, 9, 0, 8, 3, 5, 6, 2, 0, 1, 3, 9, 4, 2, 5, 0, 5, 3, 2, 5, 0, 0, 0, 0, 0, 9, 1, 3, 4, 3, 5, 5, 6, 6, 1, 4, 9, 7, 4, 4, 7, 5, 7, 1, 6, 8, 7, 9, 5, 7, 0, 2, 9, 2, 5, 0, 7, 6, 4, 5, 2, 9, 4, 3, 2, 5, 9, 2, 5, 9, 7, 3, 8, 3, 5, 6, 5, 3, 0, 7, 6, 9, 5, 1, 3, 6, 9, 3, 6, 2, 5, 3, 4, 9, 9, 1, 2, 2, 2, 4, 6, 8, 7, 9, 9, 4, 8, 8, 9, 0, 7, 0, 4, 3, 8, 6, 4, 2, 0, 1, 4, 0, 2, 1, 5, 4, 6, 6, 0, 3, 4, 5, 6, 8, 7, 6, 0, 3, 1, 8, 8, 8, 9, 9, 5, 5, 8, 6, 5, 4, 4, 2, 5, 6, 9, 2, 9, 1, 0, 4, 6, 6, 9, 8, 0, 4, 9, 1, 9, 4, 7, 3, 5, 4, 3, 4, 6, 1, 6, 2, 4, 3, 7, 8, 4, 5, 5, 9, 0, 6, 3, 4, 5, 5, 5, 7, 3, 1, 3, 3, 7, 0, 7, 7, 6, 8, 3, 5, 5, 8, 1, 9, 4, 0, 4, 2, 1, 6, 0, 1, 6, 5, 0, 8, 1, 1, 7, 5, 2, 5, 9, 0, 8, 3, 4, 4, 2, 7, 0, 7, 6, 6, 2, 3, 7, 1, 6, 4, 3, 3, 0, 0, 6, 4, 8, 7, 0, 3, 6, 4, 7, 3, 3, 6, 0, 2, 4, 4, 1, 8, 1, 9, 1, 2, 6, 4, 2, 5, 3, 3, 5, 3, 5, 8, 3, 9, 7, 3, 0, 0, 1, 0, 1, 0, 7, 7, 4, 8, 9, 0, 1, 5, 4, 9, 4, 7, 9, 9, 7, 0, 1, 0, 9, 9, 5, 1, 7, 2, 9, 1, 5, 6, 8, 1, 7, 3, 0, 8, 4, 7, 0, 8, 9, 8, 8, 4, 5, 6, 4, 5, 9, 0, 0, 5, 3, 7, 7, 4, 4, 7, 4, 5, 8, 3, 7, 2, 7, 3, 8, 8, 8, 7, 8, 6, 0, 5, 7, 9, 8, 5, 6, 0, 6, 4, 4, 2, 8, 9, 9, 1, 9, 5, 8, 4, 4, 8, 4, 8, 7, 4, 8, 3, 0, 7, 8, 8, 3, 9, 9, 5, 9, 2, 6, 9, 7, 5, 7, 4, 9, 9, 2, 3, 9, 5, 3, 5, 6, 1, 2, 9, 1, 4, 8, 5, 1, 7, 9, 0, 3, 3, 6, 9, 0, 4, 6, 0, 0, 2, 9, 7, 1, 9, 8, 5, 6, 8, 5, 9, 5, 2, 4, 2, 5, 2, 2, 5, 4, 2, 7, 1, 2, 6, 8, 2, 5, 6, 2, 6, 9, 5, 5, 1, 5, 2, 4, 4, 2, 4, 1, 9, 3, 7, 2, 7, 4, 2, 9, 7, 4, 6, 6, 1, 7, 1, 4, 7, 6, 1, 7, 3, 0, 3, 6, 4, 9, 0, 4, 1, 7, 9, 0, 2, 7, 6, 6, 7, 1, 9, 5, 2, 9, 8, 6, 4, 0, 1, 3, 2, 2, 8, 1, 0, 8, 1, 8, 1, 0, 1, 4, 7, 3, 7, 7, 3, 3, 9, 9, 0, 8, 2, 5, 8, 9, 5, 3, 5, 4, 1, 6, 9, 2, 6, 2, 6, 1, 8, 1, 3, 3, 0, 2, 1, 7, 0, 5, 4, 5, 3, 6, 2, 1, 6, 0, 7, 3, 6, 6, 3, 6, 1, 5, 2, 9, 0, 8, 0, 4, 4, 0, 1, 7, 5, 3, 3, 3, 2, 0, 3, 5, 2, 6, 2, 5, 1, 4, 6, 2, 1, 9, 3, 4, 6, 9, 5, 8, 0, 6, 3, 6, 0, 8, 1, 2, 3, 3, 1, 5, 5, 3, 2, 6, 7, 1, 3, 2, 3, 6, 1, 2, 2, 8, 0, 8, 4, 7, 0, 3, 1, 3, 8, 3, 4, 1, 2, 0, 3, 6, 7, 7, 8, 3, 6, 9, 5, 6, 6, 9, 5, 4, 3, 8, 5, 3, 8, 3, 7, 9, 6, 2, 5, 1, 0, 5, 2, 3, 5, 7, 9, 6, 0, 7, 1, 2, 0, 8, 2, 2, 2, 7, 8, 0, 2, 4, 4, 9, 7, 3, 2, 5, 4, 5, 1, 9, 5, 0, 5, 2, 4, 1, 7, 9, 0, 3, 3, 4, 9, 1, 0, 1, 9, 5, 6, 8, 2, 2, 1, 4, 0, 6, 7, 9, 0, 1, 1, 4, 3, 6, 9, 8, 1, 3, 7, 3, 9, 9, 5, 4, 2, 3, 6, 8, 8, 5, 5, 1, 8, 8, 5, 7, 9, 9, 3, 4, 4, 2, 7, 9, 6, 6, 7, 5, 4, 7, 6, 1, 4, 2, 2, 6, 9, 0, 0, 5, 1, 1, 7, 8, 3, 6, 6, 2, 0, 2, 4, 9, 5, 2, 4, 6, 4, 6, 1, 5, 2, 7, 8, 6, 7, 7, 0, 8, 4, 3, 6, 9, 1, 2, 1, 7, 4, 3, 4, 9, 9, 2, 2, 4, 3, 0, 5, 7, 5, 2, 7, 8, 9, 9, 2, 7, 8, 7, 7, 5, 8, 7, 6, 6, 9, 0, 1, 8, 7, 5, 4, 5, 3, 7, 6, 6, 5, 5, 6, 9, 9, 1, 9, 5, 9, 4, 4, 1, 5, 8, 3, 5, 1, 8, 6, 5, 0, 2, 3, 7, 1, 1, 1, 8, 7, 5, 6, 3, 4, 7, 0, 0, 5, 3, 4, 8, 6, 5, 2, 7, 3, 2, 3, 2, 7, 8, 0, 9, 0, 9, 5, 8, 0, 7, 3, 9, 0, 9, 7, 3, 0, 6, 5, 7, 8, 2, 3, 1, 9, 0, 2, 9, 1, 3, 4, 0, 3, 0, 6, 2, 3, 8, 6, 2, 9, 5, 6, 1, 8, 2, 4, 1, 6, 2, 9, 4, 6, 7, 9, 6, 3, 5, 4, 5, 9, 8, 5, 3, 0, 1, 2, 6, 4, 1, 9, 4, 4, 6, 5, 5, 4, 3, 2, 0, 1, 4, 9, 9, 7, 6, 1, 2, 6, 6, 2, 6, 2, 5, 9, 4, 8, 2, 6, 1, 5, 9, 6, 1, 8, 9, 3, 1, 7, 1, 1, 1, 9, 1, 3, 8, 9, 9, 1, 9, 6, 0, 5, 8, 5, 5, 5, 3, 8, 9, 0, 7, 8, 2, 9, 2, 0, 1, 5, 0, 7, 8, 0, 0, 9, 1, 1, 8, 2, 8, 7, 2, 0, 7, 2, 0, 0, 5, 1, 0, 8, 6, 3, 7, 2, 1, 9, 7, 4, 1, 3, 9, 2, 4, 0, 3, 7, 5, 1, 1, 9, 5, 1, 5, 4, 6, 6, 1, 5, 2, 1, 6, 6, 5, 7, 9, 4, 3, 4, 1, 7, 9, 0, 5, 7, 3, 3, 8, 4, 1, 8, 2, 5, 4, 4, 8, 9, 2, 9, 3, 2, 6, 1, 1, 6, 6, 1, 4, 9, 8, 5, 9, 1, 5, 6, 9, 3, 2, 1, 7, 4, 9, 8, 8, 9, 5, 5, 3, 8, 2, 0, 3, 6, 1, 1, 9, 0, 9, 7, 5, 3, 2, 9, 5, 5, 4, 2, 9, 9, 3, 0, 6, 3, 1, 7, 4, 9, 2, 8, 5, 8, 6, 0, 1, 3, 2, 2, 3, 6, 6, 0, 2, 8, 3, 2, 8, 6, 1, 8, 4, 5, 4, 2, 3, 9, 0, 4, 4, 2, 5, 4, 2, 7, 6, 7, 3, 3, 6, 9, 6, 8, 5, 6, 6, 3, 6, 7, 2, 5, 3, 1, 1, 9, 7, 5, 4, 2, 1, 6, 4, 5, 9, 2, 5, 5, 3, 3, 0, 9, 2, 2, 2, 3, 2, 4, 9, 2, 3, 0, 4, 2, 0, 4, 1, 3, 7, 2, 4, 2, 2, 3, 2, 3, 0, 8, 3, 5, 1, 2, 8, 8, 2, 1, 2, 1, 1, 9, 6, 5, 9, 6, 8, 0, 3, 6, 3, 1, 3, 7, 5, 6, 1, 1, 2, 0, 5, 5, 0, 1, 6, 5, 2, 8, 9, 7, 9, 1, 1, 3, 3, 5, 6, 7, 5, 9, 4, 9, 3, 6, 6, 0, 8, 5, 6, 5, 9, 8, 3, 8, 1, 3, 1, 3, 5, 6, 5, 4, 4, 9, 6, 7, 1, 4, 8, 3, 7, 7, 6, 7, 9, 4, 7, 7, 0, 1, 4, 1, 4, 8, 2, 4, 7, 6, 7, 1, 8, 7, 5, 1, 3, 1, 0, 3, 4, 5, 4, 8, 6, 3, 4, 9, 3, 1, 5, 3, 0, 7, 0, 3, 4, 5, 1, 6, 6, 2, 8, 8, 9, 8, 6, 7, 2, 4, 2, 5, 1, 9, 6, 3, 8, 7, 1, 8, 1, 2, 0, 9, 2, 4, 4, 4, 6, 1, 3, 5, 2, 9, 7, 5, 2, 7, 5, 5, 4, 4, 8, 0, 7, 0, 8, 0, 2, 1, 9, 7, 7, 3, 8, 0, 3, 0, 9, 8, 5, 6, 4, 8, 1, 5, 5, 7, 0, 1, 6, 1, 3, 2, 6, 4, 6, 1, 7, 6, 2, 2, 6, 1, 8, 2, 2, 6, 3, 0, 8, 8, 4, 6, 2, 0, 7, 0, 8, 9, 1, 6, 6, 7, 0, 8, 1, 8, 2, 4, 6, 7, 5, 7, 9, 9, 3, 9, 4, 4, 6, 4, 1, 4, 8, 4, 2, 8, 6, 2, 2, 9, 1, 8, 0, 6, 2, 6, 0, 3, 6, 6, 1, 3, 6, 3, 3, 1, 7, 8, 1, 0, 7, 6, 5, 0, 8, 2, 6, 5, 8, 7, 8, 4, 5, 9, 5, 5, 1, 2, 4, 7, 2, 9, 7, 8, 3, 7, 4, 6, 3, 8, 8, 4, 5, 1, 8, 2, 6, 2, 2, 9, 8, 9, 0, 2, 5, 9, 3, 5, 9, 8, 6, 3, 9, 5, 9, 3, 0, 8, 6, 0, 6, 3, 5, 8, 0, 6, 1, 8, 6, 9, 0, 0, 7, 6, 6, 8, 7, 6, 8, 8, 2, 0, 3, 6, 7, 1, 3, 7, 4, 0, 7, 1, 6, 5, 2, 0, 7, 9, 0, 3, 8, 2, 1, 1, 8, 8, 3, 5, 7, 5, 6, 7, 4, 3, 9, 3, 8, 9, 0, 4, 0, 4, 5, 7, 0, 4, 3, 9, 5, 7, 2, 2, 5, 8, 3, 1, 3, 5, 4, 9, 4, 3, 9, 9, 2, 0, 8, 0, 9, 1, 9, 9, 0, 7, 1, 4, 5, 0, 3, 8, 7, 4, 5, 5, 9, 3, 2, 0, 0, 9, 0, 5, 0, 1, 3, 7, 9, 1, 5, 9, 6, 0, 9, 7, 2, 9, 2, 1, 2, 7, 5, 1, 0, 7, 3, 4, 7, 6, 4, 6, 8, 5, 7, 9, 5, 7, 3, 6, 3, 9, 3, 4, 1, 5, 6, 9, 7, 4, 0, 6, 5, 8, 0, 7, 7, 3, 2, 0, 4, 8, 2, 0, 6, 9, 8, 9, 2, 5, 0, 4, 0, 2, 6, 3, 1, 8, 7, 4, 1, 9, 1, 2, 8, 5, 6, 3, 0, 0, 2, 6, 0, 7, 2, 1, 8, 4, 8, 7, 9, 4, 1, 6, 5, 7, 7, 3, 2, 5, 7, 3, 6, 7, 3, 2, 2, 9, 6, 7, 3, 9, 1, 2, 1, 9, 7, 2, 3, 3, 8, 1, 8, 3, 5, 0, 5, 3, 8, 5, 7, 4, 9, 0, 6, 8, 3, 2, 3, 3, 4, 3, 7, 8, 7, 1, 3, 7, 8, 9, 5, 5, 2, 2, 4, 5, 0, 8, 0, 3, 6, 0, 8, 8, 9, 6, 9, 1, 5, 1, 2, 1, 3, 2, 2, 2, 4, 5, 7, 5, 9, 2, 0, 5, 7, 0, 5, 6, 5, 6, 6, 4, 0, 7, 1, 5, 2, 9, 8, 1, 7, 6, 4, 4, 0, 7, 1, 8, 5, 7, 8, 5, 5, 1, 8, 5, 9, 7, 7, 6, 5, 2, 2, 1, 2, 4, 4, 1, 6, 3, 9, 1, 8, 2, 3, 7, 6, 9, 5, 7, 4, 3, 9, 5, 6, 2, 2, 7, 3, 9, 3, 0, 5, 9, 0, 9, 6, 6, 6, 5, 9, 1, 6, 5, 2, 0, 2, 3, 1, 1, 1, 7, 6, 2, 6, 5, 9, 8, 7, 9, 3, 2, 7, 9, 2, 0, 1, 1, 1, 4, 8, 0, 8, 0, 9, 5, 6, 7, 0, 8, 4, 4, 4, 2, 2, 2, 5, 7, 2, 9, 9, 2, 2, 2, 0, 7, 4, 5, 2, 3, 3, 1, 9, 8, 1, 8, 6, 6, 3, 9, 1, 9, 7, 2, 9, 0, 9, 3, 0, 4, 2, 3, 4, 6, 6, 9, 6, 1, 1, 0, 5, 6, 7, 0, 4, 1, 1, 9, 0, 0, 1, 9, 6, 7, 3, 5, 4, 1, 2, 0, 4, 0, 3, 0, 2, 3, 5, 9, 5, 8, 9, 3, 1, 7, 8, 9, 4, 1, 1, 9, 0, 7, 0, 0, 9, 6, 0, 2, 9, 6, 8, 5, 5, 9, 3, 3, 5, 7, 1, 2, 3, 3, 5, 6, 6, 4, 1, 1, 9, 1, 6, 6, 6, 2, 2, 6, 6, 6, 3, 5, 0, 3, 0, 5, 1, 1, 8, 2, 5, 3, 5, 1, 4, 4, 3, 1, 2, 7, 9, 6, 3, 8, 5, 6, 6, 9, 1, 5, 7, 7, 4, 2, 2, 7, 5, 4, 1, 5, 7, 7, 8, 2, 8, 3, 7, 4, 6, 2, 9, 9, 0, 0, 7, 3, 1, 0, 8, 2, 4, 4, 6, 7, 1, 8, 6, 0, 3, 4, 0, 3, 9, 8, 0, 0, 8, 3, 9, 2, 1, 5, 4, 5, 0, 8, 4, 2, 5, 9, 3, 0, 2, 7, 8, 5, 9, 5, 0, 0, 6, 9, 7, 2, 9, 2, 2, 6, 4, 0, 1, 4, 3, 9, 4, 0, 3, 4, 4, 6, 9, 4, 7, 2, 5, 4, 3, 4, 5, 7, 0, 2, 1, 1, 8, 7, 3, 2, 6, 5, 2, 3, 8, 8, 8, 9, 3, 6, 9, 6, 0, 3, 6, 4, 2, 8, 8, 5, 9, 2, 7, 1, 9, 0, 3, 3, 3, 2, 3, 9, 9, 5, 3, 2, 4, 2, 4, 6, 4, 5, 3, 4, 9, 8, 5, 8, 3, 4, 1, 4, 8, 9, 2, 6, 2, 3, 5, 0, 3, 5, 2, 5, 3, 9, 1, 2, 9, 8, 9, 3, 8, 8, 5, 5, 8, 4, 4, 0, 8, 3, 6, 4, 9, 6, 1, 0, 5, 1, 4, 0, 9, 2, 6, 3, 6, 7, 4, 6, 4, 3, 8, 5, 1, 8, 3, 4, 2, 5, 6, 0, 7, 8, 7, 4, 4, 2, 2, 9, 3, 5, 0, 9, 9, 0, 1, 3, 7, 1, 9, 6, 5, 2, 6, 9, 5, 7, 9, 4, 2, 8, 3, 1, 7, 8, 8, 6, 8, 0, 5, 5, 7, 1, 9, 6, 2, 1, 5, 1, 9, 6, 1, 6, 3, 2, 5, 3, 9, 3, 5, 4, 0, 6, 9, 5, 4, 2, 3, 8, 5, 8, 3, 6, 4, 1, 4, 9, 5, 8, 9, 7, 3, 6, 9, 5, 9, 1, 1, 1, 8, 4, 1, 4, 6, 9, 9, 8, 9, 7, 4, 4, 1, 9, 9, 1, 9, 3, 2, 3, 7, 1, 1, 3, 6, 8, 3, 4, 3, 3, 8, 3, 7, 1, 0, 3, 8, 4, 7, 9, 8, 0, 3, 0, 4, 5, 7, 6, 7, 3, 5, 0, 2, 3, 3, 3, 0, 6, 4, 4, 4, 4, 4, 9, 9, 0, 7, 4, 0, 2, 2, 1, 9, 5, 9, 9, 0, 5, 8, 6, 7, 3, 9, 5, 2, 8, 9, 5, 8, 0, 0, 3, 0, 6, 3, 7, 8, 0, 1, 2, 2, 3, 1, 1, 3, 2, 2, 5, 4, 3, 9, 3, 3, 2, 3, 7, 2, 9, 2, 1, 6, 7, 5, 5, 9, 2, 6, 9, 7, 9, 7, 4, 1, 8, 3, 3, 8, 0, 8, 7, 0, 7, 7, 9, 6, 3, 0, 3, 7, 4, 1, 5, 2, 0, 5, 8, 6, 7, 0, 1, 0, 5, 6, 2, 1, 4, 1, 8, 7, 9, 9, 7, 3, 2, 2, 4, 7, 6, 3, 9, 6, 3, 9, 5, 1, 6, 9, 2, 7, 4, 3, 5, 7, 2, 7, 2, 8, 7, 5, 4, 5, 9, 4, 3, 5, 0, 2, 5, 5, 3, 1, 9, 3, 7, 1, 0, 3, 4, 4, 2, 5, 7, 2, 1, 1, 7, 7, 7, 0, 1, 6, 8, 5, 2, 5, 3, 7, 8, 7, 7, 0, 8, 5, 6, 6, 5, 5, 6, 7, 7, 9, 7, 1, 0, 0, 8, 0, 4, 0, 6, 4, 5, 5, 0, 5, 3, 6, 4, 5, 0, 7, 1, 8, 7, 1, 3, 2, 0, 6, 7, 3, 7, 4, 8, 0, 3, 9, 4, 0, 3, 0, 8, 7, 3, 3, 6, 5, 0, 1, 5, 0, 9, 9, 1, 3, 0, 6, 1, 6, 6, 5, 7, 2, 4, 0, 9, 2, 6, 8, 2, 8, 3, 7, 7, 3, 3, 9, 5, 7, 6, 0, 9, 4, 5, 0, 7, 2, 9, 5, 5, 8, 7, 1, 9, 5, 6, 3, 6, 3, 0, 2, 7, 6, 4, 2, 5, 4, 1, 5, 7, 9, 7, 3, 9, 8, 0, 5, 1, 9, 6, 1, 0, 6, 8, 0, 7, 6, 9, 8, 8, 4, 4, 4, 1, 7, 7, 1, 1, 6, 7, 6, 3, 2, 8, 7, 8, 7, 9, 1, 1, 3, 8, 9, 5, 9, 1, 0, 6, 3, 4, 4, 4, 7, 1, 3, 0, 1, 5, 4, 4, 9, 2, 4, 2, 2, 6, 7, 7, 6, 7, 1, 4, 0, 8, 3, 3, 5, 6, 0, 8, 3, 0, 2, 0, 1, 8, 4, 0, 2, 9, 5, 4, 4, 5, 2, 1, 6, 4, 6, 5, 8, 0, 7, 3, 2, 6, 7, 2, 2, 3, 6, 6, 2, 0, 3, 2, 5, 1, 7, 5, 2, 5, 7, 7, 9, 9, 9, 2, 0, 9, 2, 0, 5, 5, 5, 0, 5, 0, 6, 6, 0, 6, 9, 9, 2, 4, 5, 4, 0, 1, 0, 8, 9, 5, 7, 3, 0, 2, 4, 1, 3, 8, 1, 8, 2, 0, 6, 9, 8, 5, 1, 2, 4, 0, 9, 6, 8, 8, 0, 7, 1, 6, 9, 8, 9, 9, 4, 9, 6, 3, 3, 4, 5, 0, 8, 0, 4, 0, 3, 0, 0, 0, 3, 3, 5, 9, 4, 7, 1, 5, 4, 1, 6, 1, 7, 9, 4, 3, 4, 5, 2, 9, 4, 9, 8, 8, 7, 4, 2, 3, 9, 3, 6, 7, 0, 2, 7, 0, 6, 1, 0, 5, 7, 0, 5, 9, 4, 3, 2, 8, 5, 8, 1, 9, 6, 7, 6, 7, 3, 6, 4, 5, 1, 8, 8, 8, 7, 4, 6, 5, 1, 5, 9, 6, 0, 9, 5, 8, 5, 7, 3, 9, 8, 3, 4, 6, 5, 7, 5, 1, 1, 5, 4, 1, 8, 5, 8, 2, 9, 6, 3, 3, 4, 0, 2, 4, 1, 1, 6, 7, 3, 9, 0, 2, 8, 8, 8, 6, 7, 7, 1, 2, 6, 6, 1, 6, 0, 2, 5, 8, 2, 4, 2, 3, 1, 5, 5, 4, 4, 0, 5, 4, 7, 6, 3, 4, 5, 5, 7, 5, 7, 0, 1, 1, 9, 7, 5, 0, 1, 9, 6, 3, 6, 5, 4, 3, 6, 5, 7, 2, 2, 2, 0, 5, 6, 6, 3, 7, 8, 6, 2, 6, 1, 1, 7, 5, 2, 5, 3, 4, 8, 5, 8, 8, 6, 1, 2, 3, 5, 6, 9, 0, 4, 5, 2, 3, 4, 9, 5, 5, 9, 4, 6, 4, 1, 1, 8, 9, 4, 4, 2, 3, 3, 0, 7, 1, 8, 8, 5, 0, 0, 7, 7, 1, 0, 1, 4, 1, 9, 0, 4, 1, 1, 0, 7, 3, 7, 3, 9, 0, 1, 8, 9, 0, 0, 6, 0, 9, 1, 6, 1, 2, 7, 8, 0, 5, 6, 8, 2, 5, 5, 1, 5, 9, 1, 8, 5, 3, 1, 6, 6, 0, 7, 3, 5, 4, 8, 0, 7, 1, 2, 3, 9, 8, 3, 8, 7, 7, 9, 7, 0, 9, 4, 0, 9, 6, 1, 9, 8, 6, 3, 7, 4, 9, 5, 4, 7, 1, 2, 1, 2, 3, 9, 2, 0, 5, 0, 0, 5, 5, 4, 0, 9, 9, 1, 6, 7, 7, 7, 4, 5, 1, 2, 0, 6, 3, 8, 9, 8, 4, 1, 0, 8, 3, 9, 8, 8, 7, 8, 3, 0, 0, 7, 4, 8, 6, 9, 9, 4, 5, 7, 2, 2, 1, 5, 3, 4, 0, 5, 5, 0, 8, 4, 7, 8, 9, 4, 2, 1, 7, 4, 4, 4, 9, 4, 3, 6, 0, 7, 7, 8, 0, 9, 1, 2, 6, 2, 9, 7, 1, 9, 7, 3, 3, 1, 2, 3, 5, 4, 3, 7, 4, 1, 4, 6, 6, 7, 5, 4, 6, 7, 9, 8, 1, 8, 1, 2, 2, 5, 5, 6, 1, 4, 6, 6, 1, 2, 0, 7, 6, 8, 8, 2, 8, 4, 5, 0, 0, 1, 7, 9, 7, 4, 9, 4, 0, 2, 8, 7, 1, 0, 8, 7, 6, 8, 4, 8, 2, 8, 0, 1, 5, 3, 8, 1, 7, 4, 9, 3, 7, 9, 5, 1, 8, 3, 0, 9, 3, 6, 2, 4, 2, 7, 6, 2, 9, 8, 8, 1, 5, 7, 7, 1, 9, 5, 4, 1, 0, 7, 8, 7, 3, 7, 6, 2, 5, 5, 4, 6, 7, 2, 6, 3, 2, 0, 4, 7, 8, 6, 6, 0, 1, 5, 3, 8, 3, 9, 7, 1, 7, 1, 0, 3, 8, 5, 0, 0, 6, 4, 1, 1, 2, 9, 0, 6, 2, 1, 3, 2, 7, 6, 1, 8, 5, 7, 2, 0, 5, 0, 4, 6, 2, 2, 5, 4, 1, 8, 2, 1, 5, 3, 8, 8, 9, 9, 0, 1, 8, 1, 4, 9, 0, 3, 1, 1, 4, 7, 8, 3, 4, 9, 6, 6, 8, 3, 8, 2, 9, 4, 7, 7, 0, 3, 0, 2, 5, 7, 3, 7, 4, 6, 0, 9, 3, 6, 5, 4, 1, 2, 1, 8, 1, 9, 4, 8, 9, 9, 3, 3, 7, 0, 6, 6, 1, 6, 6, 6, 4, 2, 2, 7, 0, 6, 1, 2, 0, 0, 1, 6, 0, 3, 5, 7, 9, 1, 6, 3, 7, 5, 1, 2, 7, 7, 5, 8, 0, 9, 1, 0, 1, 6, 9, 1, 6, 5, 3, 3, 0, 7, 1, 2, 7, 9, 3, 7, 4, 4, 4, 6, 7, 4, 7, 3, 1, 7, 8, 8, 7, 0, 1, 4, 0, 9, 7, 9, 9, 1, 2, 0, 4, 7, 4, 3, 4, 1, 7, 5, 7, 0, 9, 0, 0, 3, 1, 4, 7, 9, 3, 6, 7, 8, 4, 7, 4, 0, 8, 3, 0, 1, 7, 9, 6, 9, 1, 4, 6, 7, 1, 0, 6, 3, 7, 3, 1, 8, 6, 5, 9, 5, 8, 1, 0, 9, 2, 6, 2, 1, 1, 4, 7, 3, 0, 7, 5, 8, 9, 5, 4, 0, 4, 7, 2, 3, 8, 3, 8, 1, 1, 2, 4, 8, 1, 6, 8, 1, 8, 5, 3, 2, 7, 2, 2, 4, 9, 6, 0, 4, 9, 9, 6, 9, 9, 6, 7, 3, 4, 3, 3, 9, 4, 7, 7, 8, 1, 1, 6, 6, 5, 7, 9, 4, 7, 6, 7, 0, 0, 2, 9, 9, 7, 7, 5, 0, 1, 4, 3, 4, 6, 4, 0, 9, 8, 7, 8, 4, 4, 8, 9, 7, 1, 6, 7, 9, 9, 0, 1, 5, 1, 1, 3, 6, 7, 9, 8, 3, 3, 8, 5, 2, 4, 3, 6, 8, 6, 9, 0, 6, 9, 0, 1, 6, 8, 1, 8, 2, 1, 8, 1, 7, 1, 9, 1, 8, 0, 9, 4, 1, 0, 8, 4, 4, 6, 8, 2, 2, 5, 5, 0, 6, 6, 9, 8, 0, 1, 0, 0, 4, 8, 3, 4, 7, 7, 5, 9, 2, 5, 4, 4, 9, 9, 4, 8, 7, 6, 9, 3, 4, 0, 4, 8, 0, 1, 9, 2, 1, 6, 7, 1, 8, 5, 0, 4, 6, 4, 1, 1, 9, 8, 8, 9, 1, 2, 6, 0, 5, 2, 5, 6, 8, 3, 6, 1, 8, 6, 1, 5, 0, 3, 3, 1, 9, 2, 8, 7, 8, 2, 3, 6, 2, 5, 0, 9, 0, 7, 1, 1, 7, 9, 6, 1, 6, 7, 5, 4, 6, 3, 3, 6, 1, 6, 0, 9, 9, 8, 2, 9, 6, 2, 5, 4, 7, 2, 6, 5, 6, 0, 9, 3, 7, 0, 2, 3, 5, 6, 4, 3, 4, 6, 9, 8, 8, 3, 2, 0, 0, 3, 9, 2, 2, 8, 1, 9, 2, 4, 9, 3, 6, 2, 0, 6, 7, 0, 5, 0, 6, 3, 1, 3, 0, 9, 5, 4, 3, 7, 0, 6, 2, 9, 0, 7, 6, 5, 6, 8, 2, 1, 0, 6, 6, 5, 9, 3, 5, 0, 6, 0, 7, 4, 6, 8, 3, 3, 8, 6, 3, 8, 9, 4, 0, 8, 8, 3, 8, 0, 7, 7, 0, 3, 6, 8, 1, 5, 9, 6, 2, 8, 9, 0, 1, 0, 5, 5, 2, 2, 8, 2, 3, 6, 7, 4, 5, 3, 7, 4, 5, 8, 8, 3, 9, 5, 0, 6, 2, 6, 3, 6, 6, 9, 2, 5, 6, 5, 6, 3, 1, 7, 8, 0, 4, 7, 3, 3, 8, 6, 0, 9, 2, 8, 5, 4, 9, 6, 6, 4, 2, 0, 1, 1, 9, 3, 8, 2, 1, 9, 5, 8, 4, 8, 2, 3, 5, 3, 6, 4, 9, 2, 6, 2, 9, 8, 0, 5, 9, 2, 4, 5, 2, 1, 0, 7, 4, 4, 2, 7, 4, 0, 6, 6, 1, 5, 4, 0, 1, 9, 9, 5, 6, 5, 2, 9, 6, 6, 4, 5, 4, 8, 9, 0, 9, 5, 5, 5, 7, 9, 3, 3, 8, 4, 3, 9, 3, 1, 0, 2, 5, 2, 8, 7, 9, 7, 7, 7, 9, 2, 0, 0, 6, 7, 6, 1, 8, 0, 3, 8, 5, 0, 5, 6, 9, 1, 1, 2, 6, 8, 9, 7, 7, 5, 8, 6, 1, 4, 0, 1, 8, 4, 3, 4, 7, 9, 3, 7, 5, 5, 0, 9, 1, 2, 1, 2, 7, 6, 0, 9, 3, 2, 1, 1, 7, 8, 1, 6, 5, 9, 0, 0, 9, 5, 3, 8, 8, 2, 8, 5, 7, 0, 7, 0, 9, 6, 9, 2, 9, 4, 8, 5, 2, 0, 1, 6, 6, 1, 7, 6, 1, 7, 7, 8, 5, 7, 0, 6, 4, 2, 1, 6, 8, 0, 0, 2, 7, 5, 9, 1, 0, 4, 3, 7, 6, 6, 3, 1, 8, 4, 7, 2, 5, 9, 3, 1, 8, 1, 9, 2, 9, 6, 2, 2, 1, 8, 3, 9, 8, 2, 0, 4, 8, 4, 5, 1, 2, 2, 6, 4, 1, 8, 5, 7, 7, 7, 3, 5, 5, 7, 9, 9, 8, 2, 8, 2, 1, 3, 3, 4, 8, 9, 4, 0, 7, 6, 2, 8, 1, 0, 6, 1, 6, 5, 2, 9, 7, 2, 8, 7, 3, 7, 8, 1, 2, 1, 7, 4, 8, 8, 5, 0, 2, 6, 6, 1, 2, 6, 5, 0, 1, 5, 5, 2, 5, 1, 9, 8, 7, 1, 2, 7, 0, 9, 3, 1, 9, 0, 4, 6, 6, 5, 9, 9, 4, 2, 7, 1, 8, 1, 4, 2, 3, 7, 8, 4, 6, 4, 5, 1, 2, 9, 3, 5, 8, 0, 1, 9, 6, 7, 3, 7, 4, 4, 0, 6, 2, 1, 1, 3, 0, 7, 0, 5, 9, 8, 9, 3, 7, 9, 9, 4, 8, 8, 0, 1, 6, 4, 0, 6, 8, 1, 6, 1, 6, 3, 2, 7, 8, 7, 0, 4, 3, 4, 4, 5, 7, 9, 2, 5, 2, 4, 5, 0, 1, 7, 6, 7, 6, 0, 0, 0, 5, 1, 1, 2, 4, 6, 9, 8, 1, 6, 1, 6, 8, 5, 4, 0, 4, 0, 4, 9, 3, 8, 5, 2, 8, 6, 2, 8, 0, 4, 4, 0, 8, 7, 5, 2, 8, 9, 2, 9, 5, 9, 2, 1, 0, 4, 1, 7, 7, 1, 7, 3, 5, 8, 7, 2, 5, 1, 5, 2, 0, 6, 0, 1, 2, 4, 4, 8, 0, 3, 2, 0, 3, 5, 1, 3, 3, 0, 5, 1, 8, 3, 1, 8, 7, 8, 4, 2, 0, 0, 7, 8, 1, 3, 9, 0, 2, 8, 1, 4, 8, 8, 3, 0, 8, 5, 7, 5, 4, 7, 7, 6, 1, 8, 1, 9, 7, 0, 3, 1, 6, 5, 5, 3, 8, 9, 4, 0, 9, 5, 1, 7, 2, 1, 5, 2, 8, 3, 3, 6, 7, 1, 3, 4, 4, 5, 7, 0, 6, 7, 3, 3, 7, 8, 8, 2, 5, 6, 9, 7, 0, 2, 9, 3, 0, 5, 5, 6, 9, 1, 4, 1, 5, 6, 4, 1, 4, 0, 3, 3, 6, 3, 0, 8, 6, 7, 5, 5, 7, 0, 7, 9, 4, 4, 2, 9, 1, 7, 1, 8, 8, 8, 5, 8, 3, 8, 9, 3, 0, 0, 2, 1, 8, 4, 4, 0, 0, 9, 5, 3, 1, 5, 1, 3, 5, 0, 2, 6, 1, 5, 3, 0, 8, 6, 9, 6, 9, 6, 0, 4, 1, 6, 6, 4, 9, 1, 4, 9, 7, 8, 2, 6, 2, 9, 7, 8, 5, 6, 9, 6, 0, 0, 8, 1, 3, 2, 7, 5, 8, 4, 5, 6, 8, 9, 1, 9, 1, 8, 1, 5]\n",
            "[9, 2, 1, 1, 6, 1, 4, 6, 5, 7, 4, 5, 7, 3, 4, 1, 2, 6, 8, 0, 2, 7, 7, 5, 1, 6, 6, 0, 9, 6, 8, 8, 1, 6, 8, 0, 7, 5, 7, 9, 0, 1, 0, 9, 4, 7, 6, 1, 4, 6, 2, 2, 5, 8, 4, 2, 8, 6, 8, 0, 7, 7, 8, 5, 1, 1, 6, 4, 7, 8, 7, 0, 2, 6, 4, 3, 1, 2, 8, 4, 1, 8, 5, 9, 5, 0, 3, 2, 0, 2, 5, 1, 6, 7, 1, 8, 0, 1, 4, 2, 3, 6, 7, 2, 7, 8, 5, 7, 9, 4, 2, 5, 7, 0, 5, 2, 8, 6, 7, 8, 0, 0, 9, 9, 0, 0, 8, 4, 1, 5, 4, 1, 9, 1, 8, 6, 2, 1, 6, 5, 1, 0, 0, 0, 1, 6, 1, 3, 2, 2, 6, 4, 1, 6, 5, 0, 4, 7, 9, 3, 7, 2, 3, 9, 0, 9, 4, 7, 4, 2, 0, 5, 4, 1, 2, 1, 3, 0, 9, 1, 0, 9, 3, 6, 7, 9, 9, 4, 4, 7, 1, 2, 1, 2, 3, 2, 8, 3, 6, 1, 1, 0, 2, 9, 2, 4, 0, 7, 9, 8, 4, 1, 8, 4, 1, 3, 1, 6, 7, 4, 8, 5, 6, 0, 7, 7, 6, 2, 7, 0, 7, 8, 9, 2, 9, 0, 5, 1, 4, 2, 5, 4, 9, 2, 2, 8, 6, 6, 2, 4, 9, 7, 6, 5, 5, 4, 8, 5, 2, 3, 0, 4, 8, 0, 0, 6, 3, 8, 9, 0, 1, 6, 0, 2, 3, 0, 8, 3, 7, 4, 0, 1, 6, 4, 0, 4, 6, 7, 5, 3, 5, 9, 5, 0, 5, 5, 1, 9, 8, 3, 3, 3, 6, 8, 0, 0, 2, 9, 7, 7, 1, 0, 2, 2, 2, 4, 7, 1, 2, 4, 0, 2, 6, 5, 6, 6, 7, 7, 7, 3, 3, 7, 2, 7, 1, 3, 7, 6, 2, 3, 4, 0, 3, 1, 0, 1, 9, 4, 9, 9, 1, 7, 8, 3, 6, 0, 2, 4, 8, 6, 1, 2, 2, 4, 4, 7, 3, 4, 2, 5, 0, 7, 9, 4, 0, 9, 3, 9, 4, 6, 5, 0, 0, 3, 5, 8, 1, 6, 2, 6, 6, 4, 9, 5, 4, 0, 6, 6, 1, 2, 0, 9, 7, 0, 6, 4, 6, 6, 6, 1, 0, 6, 7, 6, 9, 4, 2, 1, 5, 4, 5, 3, 8, 5, 8, 4, 4, 8, 9, 8, 6, 2, 2, 4, 6, 4, 1, 6, 1, 3, 0, 7, 8, 8, 4, 9, 3, 1, 9, 5, 3, 3, 0, 1, 2, 2, 9, 4, 0, 6, 0, 4, 2, 0, 0, 1, 3, 2, 2, 8, 9, 4, 0, 7, 0, 4, 4, 9, 6, 9, 7, 9, 3, 7, 5, 7, 8, 1, 0, 0, 6, 6, 8, 9, 7, 9, 1, 2, 7, 0, 6, 0, 9, 7, 1, 8, 6, 2, 2, 2, 4, 4, 6, 1, 9, 8, 5, 1, 9, 1, 6, 8, 3, 8, 9, 2, 6, 2, 8, 6, 6, 0, 5, 8, 8, 5, 3, 9, 4, 3, 4, 4, 5, 1, 0, 1, 4, 0, 6, 9, 6, 1, 5, 1, 1, 1, 9, 3, 4, 5, 3, 6, 2, 0, 4, 0, 0, 5, 8, 6, 6, 4, 0, 7, 7, 8, 9, 0, 6, 8, 7, 6, 7, 9, 3, 4, 0, 6, 5, 0, 1, 1, 5, 9, 4, 2, 5, 7, 8, 1, 6, 9, 7, 7, 1, 0, 9, 0, 2, 9, 0, 7, 6, 8, 2, 7, 0, 2, 3, 8, 2, 2, 0, 9, 3, 0, 7, 8, 0, 2, 9, 4, 2, 0, 4, 6, 0, 6, 4, 4, 7, 5, 8, 4, 9, 1, 0, 5, 4, 4, 4, 0, 0, 4, 5, 6, 0, 4, 5, 4, 1, 0, 1, 3, 6, 4, 3, 8, 2, 5, 6, 5, 0, 4, 6, 8, 5, 0, 8, 2, 9, 0, 8, 9, 0, 3, 4, 9, 6, 2, 5, 0, 9, 5, 3, 6, 6, 6, 3, 0, 8, 1, 4, 0, 9, 7, 9, 4, 8, 9, 1, 0, 7, 3, 0, 2, 6, 7, 1, 0, 0, 8, 7, 2, 6, 4, 6, 4, 1, 5, 9, 0, 0, 1, 6, 5, 0, 0, 3, 3, 3, 8, 1, 1, 8, 5, 7, 7, 8, 7, 2, 5, 7, 0, 8, 0, 9, 7, 6, 1, 0, 6, 4, 8, 0, 0, 3, 4, 8, 4, 0, 8, 9, 2, 4, 5, 9, 1, 4, 4, 9, 2, 1, 7, 9, 5, 8, 3, 7, 7, 1, 1, 1, 2, 9, 5, 3, 8, 4, 6, 9, 6, 8, 3, 2, 4, 4, 7, 1, 4, 9, 3, 5, 8, 5, 4, 7, 2, 8, 5, 9, 3, 3, 6, 7, 1, 7, 0, 7, 4, 4, 5, 8, 3, 9, 1, 2, 6, 1, 9, 8, 2, 7, 1, 3, 7, 5, 9, 9, 1, 8, 4, 5, 7, 1, 9, 8, 1, 0, 0, 2, 1, 7, 1, 1, 5, 7, 1, 5, 2, 2, 3, 3, 1, 1, 4, 9, 2, 3, 7, 7, 8, 8, 9, 9, 6, 1, 1, 4, 0, 0, 5, 9, 2, 0, 5, 5, 1, 9, 7, 8, 7, 9, 3, 6, 4, 0, 6, 0, 6, 0, 2, 5, 5, 1, 2, 0, 9, 3, 7, 8, 4, 8, 3, 4, 7, 0, 7, 4, 8, 8, 3, 4, 4, 3, 4, 9, 0, 2, 4, 9, 1, 8, 1, 7, 5, 5, 6, 0, 2, 1, 0, 5, 4, 0, 0, 6, 7, 7, 0, 6, 5, 9, 6, 8, 2, 6, 4, 0, 2, 9, 0, 7, 7, 1, 4, 4, 0, 5, 0, 9, 9, 8, 8, 6, 6, 2, 4, 6, 6, 3, 2, 3, 7, 2, 9, 3, 4, 7, 7, 0, 3, 5, 5, 2, 4, 5, 9, 6, 0, 7, 5, 1, 9, 8, 8, 9, 9, 2, 7, 2, 2, 3, 8, 7, 4, 6, 5, 6, 1, 6, 1, 4, 9, 3, 1, 6, 5, 0, 5, 7, 5, 2, 3, 3, 9, 4, 3, 6, 0, 4, 7, 0, 4, 9, 6, 0, 3, 4, 7, 0, 2, 1, 1, 3, 4, 6, 5, 9, 0, 1, 6, 5, 1, 4, 4, 8, 4, 7, 7, 3, 8, 1, 1, 9, 8, 1, 3, 3, 7, 5, 6, 5, 7, 6, 9, 6, 3, 5, 8, 4, 6, 3, 8, 6, 5, 5, 2, 7, 1, 5, 3, 5, 4, 8, 6, 6, 1, 1, 7, 9, 2, 2, 7, 4, 4, 8, 2, 2, 0, 6, 4, 4, 9, 6, 8, 4, 5, 9, 0, 3, 9, 6, 9, 8, 7, 4, 4, 2, 5, 3, 7, 0, 7, 6, 9, 3, 7, 0, 9, 3, 8, 4, 4, 7, 6, 6, 6, 6, 0, 7, 8, 4, 2, 4, 5, 5, 0, 4, 5, 5, 8, 1, 0, 7, 4, 6, 9, 0, 8, 7, 4, 6, 1, 6, 7, 7, 4, 9, 8, 5, 1, 1, 0, 2, 0, 9, 0, 1, 9, 0, 5, 5, 2, 0, 7, 0, 2, 0, 1, 3, 1, 3, 2, 9, 2, 4, 9, 5, 2, 9, 6, 3, 4, 4, 0, 0, 5, 2, 2, 5, 6, 1, 6, 2, 5, 4, 4, 8, 6, 2, 4, 0, 6, 6, 6, 8, 3, 8, 2, 0, 4, 6, 8, 8, 6, 5, 2, 2, 6, 0, 1, 9, 0, 9, 1, 9, 6, 5, 4, 2, 7, 3, 8, 5, 6, 6, 0, 7, 5, 5, 9, 5, 6, 0, 0, 3, 4, 4, 4, 5, 7, 1, 3, 4, 0, 4, 5, 1, 6, 7, 3, 4, 8, 8, 4, 8, 9, 4, 1, 6, 5, 4, 7, 8, 5, 4, 8, 5, 4, 6, 8, 9, 8, 6, 3, 0, 8, 8, 6, 0, 9, 4, 4, 8, 1, 3, 6, 1, 9, 2, 1, 6, 4, 7, 9, 6, 6, 0, 4, 4, 2, 4, 5, 0, 2, 8, 3, 7, 4, 4, 0, 0, 5, 4, 0, 4, 4, 3, 0, 2, 1, 7, 7, 5, 4, 7, 6, 6, 7, 3, 3, 1, 3, 4, 6, 0, 1, 7, 6, 4, 7, 1, 0, 6, 5, 8, 4, 6, 7, 9, 5, 0, 7, 9, 5, 1, 2, 9, 5, 5, 3, 9, 9, 1, 2, 7, 8, 0, 1, 7, 2, 7, 1, 1, 5, 5, 6, 4, 5, 9, 5, 5, 2, 3, 9, 3, 8, 5, 4, 0, 0, 0, 5, 7, 6, 5, 2, 6, 4, 4, 7, 6, 0, 5, 1, 7, 2, 3, 6, 8, 7, 8, 7, 1, 2, 3, 2, 9, 7, 5, 0, 1, 6, 7, 1, 2, 6, 9, 0, 6, 4, 4, 3, 0, 6, 2, 3, 6, 1, 3, 7, 4, 5, 0, 9, 1, 1, 8, 2, 9, 5, 0, 7, 4, 6, 7, 1, 1, 5, 3, 8, 7, 8, 1, 5, 9, 2, 6, 1, 1, 3, 5, 6, 7, 1, 9, 9, 2, 4, 7, 0, 1, 1, 9, 6, 3, 7, 2, 8, 1, 8, 0, 7, 9, 8, 5, 4, 2, 0, 4, 0, 6, 5, 8, 3, 8, 7, 5, 7, 3, 7, 0, 7, 0, 2, 2, 5, 3, 5, 1, 1, 7, 7, 6, 0, 6, 6, 2, 8, 6, 3, 1, 6, 9, 9, 4, 5, 2, 2, 7, 8, 0, 7, 9, 1, 2, 9, 4, 9, 3, 4, 3, 3, 1, 8, 8, 5, 3, 8, 0, 6, 4, 3, 2, 0, 6, 7, 3, 6, 8, 3, 7, 7, 3, 1, 7, 5, 8, 8, 2, 0, 6, 4, 4, 6, 9, 7, 0, 6, 2, 7, 7, 3, 9, 6, 5, 9, 7, 6, 7, 4, 6, 5, 1, 4, 5, 4, 5, 0, 4, 4, 1, 4, 4, 8, 4, 5, 9, 4, 1, 1, 7, 2, 6, 5, 0, 6, 9, 7, 5, 3, 8, 8, 8, 9, 1, 1, 6, 4, 1, 4, 3, 4, 9, 9, 0, 0, 6, 9, 4, 9, 0, 6, 0, 8, 9, 2, 9, 4, 8, 0, 7, 2, 3, 6, 4, 5, 6, 1, 9, 0, 4, 2, 9, 9, 0, 8, 3, 6, 6, 6, 0, 4, 2, 6, 0, 5, 0, 2, 7, 8, 7, 4, 6, 6, 0, 5, 2, 4, 2, 9, 5, 2, 6, 7, 0, 1, 7, 5, 5, 0, 7, 7, 5, 0, 5, 0, 0, 4, 7, 9, 8, 2, 4, 7, 3, 3, 7, 7, 7, 8, 4, 9, 5, 7, 6, 5, 9, 5, 1, 3, 0, 4, 9, 9, 8, 3, 7, 0, 4, 6, 9, 3, 3, 1, 7, 7, 1, 0, 7, 6, 7, 6, 9, 7, 0, 7, 5, 5, 4, 0, 7, 0, 3, 2, 0, 4, 9, 9, 0, 6, 0, 8, 3, 8, 0, 2, 4, 1, 8, 6, 4, 5, 0, 4, 6, 3, 0, 0, 1, 6, 8, 4, 9, 0, 7, 6, 7, 7, 1, 5, 8, 7, 2, 9, 9, 1, 2, 4, 1, 1, 1, 8, 8, 1, 3, 7, 5, 2, 6, 8, 4, 8, 9, 6, 1, 3, 1, 9, 8, 1, 1, 1, 8, 0, 9, 9, 7, 6, 0, 4, 4, 1, 1, 7, 9, 2, 2, 0, 6, 6, 4, 8, 1, 7, 2, 2, 2, 2, 6, 8, 7, 1, 8, 7, 5, 7, 7, 6, 6, 2, 9, 0, 6, 0, 5, 5, 0, 2, 1, 0, 3, 7, 7, 1, 7, 4, 9, 7, 9, 8, 9, 1, 4, 8, 3, 2, 0, 6, 0, 8, 3, 8, 6, 8, 6, 0, 8, 8, 3, 2, 9, 3, 2, 0, 8, 5, 9, 0, 1, 1, 1, 9, 7, 1, 3, 3, 6, 0, 8, 4, 1, 3, 8, 8, 0, 7, 5, 0, 6, 7, 3, 3, 2, 4, 2, 5, 5, 4, 4, 1, 9, 1, 1, 7, 3, 8, 7, 2, 2, 9, 3, 9, 9, 0, 1, 7, 1, 4, 8, 1, 2, 9, 3, 4, 0, 0, 9, 6, 9, 9, 5, 7, 7, 0, 9, 0, 3, 0, 9, 8, 4, 6, 6, 3, 9, 4, 3, 2, 7, 6, 0, 6, 8, 1, 8, 7, 4, 4, 5, 2, 2, 9, 1, 9, 4, 9, 1, 0, 2, 6, 8, 7, 7, 7, 7, 2, 6, 0, 7, 5, 8, 5, 0, 0, 6, 4, 9, 2, 4, 6, 1, 9, 3, 1, 2, 2, 2, 3, 9, 5, 7, 4, 4, 4, 1, 2, 3, 5, 4, 2, 9, 1, 5, 9, 4, 6, 2, 4, 0, 1, 7, 7, 6, 6, 7, 7, 6, 0, 6, 3, 4, 7, 8, 7, 2, 8, 0, 8, 7, 6, 4, 2, 7, 0, 9, 9, 3, 1, 5, 9, 3, 1, 0, 3, 3, 5, 9, 7, 9, 2, 3, 5, 9, 3, 7, 9, 3, 6, 0, 0, 5, 7, 7, 4, 6, 5, 3, 1, 1, 9, 2, 3, 9, 5, 5, 7, 2, 4, 9, 0, 2, 1, 9, 7, 1, 5, 0, 9, 5, 0, 3, 0, 0, 3, 3, 7, 4, 2, 6, 8, 5, 9, 2, 1, 0, 5, 5, 6, 5, 3, 7, 4, 4, 6, 9, 6, 0, 0, 9, 1, 4, 3, 1, 5, 1, 8, 5, 1, 1, 2, 9, 4, 0, 5, 2, 8, 0, 2, 9, 8, 2, 4, 8, 3, 8, 0, 4, 0, 0, 4, 8, 5, 4, 9, 0, 9, 5, 8, 0, 9, 1, 2, 7, 2, 1, 2, 0, 0, 4, 5, 2, 4, 8, 7, 5, 2, 0, 6, 8, 6, 0, 1, 9, 2, 9, 7, 4, 0, 4, 8, 3, 4, 8, 5, 2, 0, 3, 0, 1, 4, 6, 0, 4, 9, 0, 6, 1, 9, 9, 8, 1, 8, 8, 3, 3, 0, 8, 5, 9, 2, 6, 8, 7, 0, 0, 0, 0, 6, 5, 7, 5, 0, 7, 9, 1, 2, 4, 8, 9, 3, 5, 6, 0, 4, 4, 7, 8, 9, 1, 5, 1, 5, 5, 3, 1, 1, 8, 8, 3, 0, 7, 0, 1, 8, 1, 0, 4, 9, 8, 5, 8, 8, 4, 9, 1, 8, 4, 4, 7, 7, 0, 5, 1, 1, 0, 0, 4, 6, 0, 4, 3, 7, 1, 4, 3, 3, 4, 4, 5, 0, 9, 8, 3, 4, 1, 0, 6, 1, 4, 4, 4, 8, 4, 9, 0, 9, 9, 5, 0, 0, 0, 5, 0, 4, 9, 7, 3, 6, 1, 9, 6, 1, 0, 4, 5, 4, 1, 6, 8, 5, 9, 4, 5, 3, 4, 8, 3, 0, 6, 8, 9, 0, 5, 6, 2, 2, 9, 3, 2, 2, 8, 5, 9, 2, 3, 1, 0, 3, 2, 2, 7, 6, 1, 2, 6, 4, 6, 2, 8, 5, 0, 8, 5, 2, 7, 8, 1, 5, 9, 8, 0, 9, 0, 9, 3, 7, 5, 9, 9, 6, 0, 7, 1, 5, 5, 9, 5, 4, 4, 6, 6, 5, 9, 7, 4, 2, 6, 9, 9, 4, 4, 1, 3, 7, 1, 8, 7, 7, 1, 8, 9, 3, 7, 7, 7, 1, 7, 4, 4, 2, 2, 4, 5, 2, 8, 9, 0, 8, 0, 0, 7, 7, 5, 0, 1, 9, 6, 0, 4, 9, 2, 6, 6, 7, 1, 0, 5, 8, 7, 2, 8, 6, 3, 6, 1, 7, 4, 8, 7, 4, 1, 7, 8, 6, 4, 4, 4, 4, 1, 8, 6, 7, 2, 9, 4, 5, 2, 3, 3, 8, 8, 2, 0, 7, 2, 4, 0, 4, 1, 0, 8, 1, 7, 7, 2, 6, 3, 1, 2, 7, 6, 6, 0, 6, 6, 7, 2, 6, 3, 2, 3, 0, 9, 7, 0, 5, 4, 9, 2, 4, 9, 0, 6, 8, 4, 0, 6, 4, 0, 4, 1, 6, 4, 6, 7, 1, 0, 6, 3, 1, 1, 5, 4, 6, 8, 3, 4, 1, 7, 4, 9, 8, 8, 4, 5, 5, 6, 7, 3, 9, 1, 0, 5, 3, 7, 6, 1, 1, 8, 0, 2, 0, 5, 9, 6, 3, 8, 1, 0, 4, 8, 4, 4, 8, 8, 4, 2, 6, 9, 4, 7, 9, 5, 7, 2, 1, 5, 8, 8, 4, 6, 4, 6, 0, 1, 6, 4, 0, 3, 9, 8, 4, 0, 8, 4, 3, 9, 7, 1, 1, 9, 5, 1, 9, 6, 4, 4, 4, 8, 6, 7, 1, 3, 0, 7, 6, 5, 8, 1, 4, 2, 3, 4, 8, 8, 8, 3, 8, 1, 8, 9, 3, 0, 6, 6, 2, 9, 7, 3, 9, 0, 1, 6, 5, 9, 4, 0, 5, 0, 5, 8, 7, 3, 2, 2, 8, 0, 0, 9, 1, 0, 5, 8, 1, 1, 2, 6, 0, 0, 8, 4, 2, 3, 3, 9, 5, 4, 6, 3, 1, 8, 1, 5, 2, 0, 0, 7, 9, 3, 2, 7, 1, 7, 6, 1, 6, 2, 8, 4, 7, 0, 4, 9, 3, 2, 5, 2, 8, 6, 2, 6, 9, 2, 4, 1, 1, 0, 0, 5, 5, 2, 6, 4, 1, 8, 0, 6, 4, 4, 4, 2, 9, 2, 1, 9, 6, 6, 6, 8, 4, 5, 4, 9, 8, 1, 6, 4, 2, 4, 9, 4, 3, 7, 1, 4, 6, 0, 1, 1, 0, 2, 6, 9, 7, 0, 1, 2, 6, 6, 7, 4, 1, 1, 7, 7, 8, 5, 6, 5, 0, 7, 6, 0, 9, 2, 1, 6, 6, 2, 5, 8, 5, 2, 9, 8, 4, 0, 9, 0, 8, 1, 3, 8, 6, 8, 2, 0, 6, 3, 8, 7, 8, 2, 2, 6, 6, 0, 4, 5, 4, 4, 1, 1, 9, 7, 0, 6, 6, 1, 4, 2, 7, 7, 1, 8, 0, 3, 7, 9, 8, 7, 2, 7, 9, 7, 2, 2, 2, 0, 3, 3, 9, 1, 1, 4, 8, 0, 9, 7, 5, 6, 8, 8, 3, 6, 3, 2, 8, 4, 4, 5, 9, 2, 3, 8, 6, 2, 8, 3, 3, 1, 1, 3, 0, 1, 8, 4, 1, 5, 8, 1, 5, 8, 0, 7, 8, 7, 5, 9, 9, 5, 3, 6, 7, 8, 6, 5, 1, 0, 6, 0, 4, 3, 7, 7, 9, 7, 2, 5, 8, 7, 8, 5, 3, 0, 9, 7, 4, 0, 0, 8, 6, 0, 7, 4, 7, 6, 8, 4, 7, 0, 0, 4, 0, 2, 7, 8, 1, 0, 8, 1, 7, 3, 6, 1, 1, 6, 6, 9, 8, 2, 8, 6, 7, 7, 1, 1, 0, 0, 0, 7, 8, 7, 6, 5, 2, 6, 7, 5, 5, 8, 9, 7, 3, 2, 4, 8, 3, 9, 5, 7, 6, 6, 2, 7, 0, 8, 5, 1, 8, 9, 2, 2, 1, 2, 2, 7, 4, 0, 6, 4, 8, 9, 7, 9, 6, 2, 8, 4, 0, 0, 6, 3, 6, 1, 5, 6, 7, 5, 0, 7, 6, 2, 0, 9, 1, 1, 0, 7, 3, 8, 8, 7, 7, 9, 9, 5, 5, 4, 0, 7, 1, 2, 6, 0, 9, 9, 6, 0, 8, 0, 5, 7, 8, 8, 4, 7, 6, 6, 4, 8, 1, 0, 4, 2, 0, 7, 5, 8, 7, 7, 7, 5, 0, 5, 4, 2, 2, 0, 3, 4, 2, 0, 1, 9, 4, 5, 6, 4, 1, 2, 5, 7, 0, 5, 6, 2, 5, 0, 3, 6, 6, 6, 7, 6, 7, 2, 3, 2, 7, 1, 2, 4, 4, 2, 4, 6, 9, 9, 2, 8, 0, 4, 0, 0, 1, 9, 3, 9, 6, 8, 6, 9, 4, 7, 9, 1, 5, 8, 1, 0, 0, 2, 4, 8, 0, 3, 0, 0, 0, 6, 3, 6, 1, 6, 8, 4, 7, 3, 0, 6, 5, 8, 8, 8, 2, 1, 0, 8, 9, 8, 5, 8, 7, 0, 7, 2, 7, 1, 5, 5, 8, 3, 2, 8, 5, 9, 9, 4, 0, 4, 7, 1, 8, 8, 8, 7, 2, 0, 9, 7, 9, 6, 9, 4, 1, 4, 7, 2, 5, 6, 6, 2, 9, 0, 7, 1, 9, 7, 2, 5, 0, 8, 4, 9, 4, 9, 5, 7, 5, 1, 0, 3, 6, 6, 7, 7, 3, 7, 5, 8, 7, 7, 4, 6, 5, 5, 0, 4, 8, 1, 0, 9, 2, 6, 2, 6, 7, 4, 0, 9, 1, 4, 8, 1, 4, 7, 8, 6, 8, 7, 2, 0, 2, 6, 6, 2, 3, 0, 5, 2, 6, 2, 8, 5, 0, 9, 4, 6, 2, 8, 3, 5, 1, 6, 9, 1, 6, 9, 0, 7, 4, 2, 0, 2, 9, 6, 3, 5, 6, 5, 1, 7, 9, 4, 0, 7, 4, 0, 2, 8, 1, 0, 9, 9, 9, 8, 2, 0, 9, 7, 7, 5, 8, 8, 7, 5, 3, 5, 5, 0, 8, 9, 7, 6, 1, 4, 7, 1, 3, 6, 3, 6, 2, 9, 4, 7, 7, 0, 5, 0, 8, 8, 6, 8, 5, 4, 0, 7, 3, 0, 0, 2, 5, 6, 0, 7, 7, 7, 1, 5, 2, 1, 8, 5, 2, 2, 8, 7, 7, 2, 7, 1, 0, 9, 5, 3, 9, 3, 5, 0, 7, 4, 2, 0, 1, 2, 5, 9, 0, 2, 8, 5, 7, 3, 1, 4, 0, 8, 1, 8, 5, 6, 9, 0, 3, 8, 6, 4, 2, 0, 6, 4, 2, 3, 4, 5, 9, 1, 1, 9, 4, 7, 0, 6, 1, 0, 0, 7, 7, 0, 7, 8, 0, 5, 6, 4, 4, 8, 9, 7, 4, 9, 5, 3, 7, 2, 6, 1, 9, 7, 8, 1, 0, 9, 3, 4, 7, 8, 4, 5, 8, 9, 9, 9, 7, 0, 4, 2, 4, 4, 6, 9, 5, 3, 9, 6, 8, 8, 0, 0, 4, 1, 9, 3, 3, 5, 1, 7, 5, 9, 6, 8, 5, 5, 9, 5, 1, 0, 7, 3, 5, 2, 2, 6, 9, 2, 8, 1, 9, 2, 6, 6, 4, 8, 8, 7, 7, 4, 9, 3, 9, 6, 8, 4, 6, 9, 0, 6, 6, 7, 7, 0, 4, 6, 4, 1, 3, 1, 8, 7, 8, 8, 7, 7, 6, 5, 7, 3, 6, 0, 4, 6, 3, 6, 8, 8, 8, 0, 2, 3, 4, 8, 6, 1, 4, 1, 1, 6, 3, 2, 0, 8, 0, 0, 4, 1, 0, 2, 7, 0, 6, 7, 9, 9, 2, 7, 0, 9, 9, 8, 4, 8, 3, 4, 0, 9, 6, 2, 4, 3, 8, 6, 0, 6, 9, 8, 4, 7, 3, 7, 8, 8, 2, 4, 8, 8, 0, 1, 5, 8, 9, 8, 7, 1, 0, 3, 1, 0, 0, 9, 0, 9, 9, 1, 5, 9, 4, 1, 7, 0, 1, 0, 5, 3, 8, 8, 4, 1, 7, 0, 5, 0, 4, 1, 7, 1, 7, 9, 4, 3, 9, 6, 6, 9, 3, 5, 8, 8, 4, 4, 7, 7, 4, 6, 0, 5, 5, 3, 6, 0, 5, 4, 8, 5, 2, 9, 1, 3, 1, 4, 5, 9, 0, 7, 0, 4, 5, 6, 1, 5, 8, 5, 6, 0, 9, 1, 9, 1, 7, 1, 8, 0, 3, 4, 0, 2, 8, 3, 3, 8, 8, 0, 3, 6, 8, 1, 1, 3, 3, 4, 4, 1, 8, 0, 4, 2, 2, 4, 6, 3, 9, 2, 3, 0, 4, 5, 7, 1, 6, 1, 2, 6, 2, 8, 5, 1, 6, 5, 4, 8, 1, 7, 1, 6, 4, 9, 4, 2, 1, 5, 4, 0, 5, 8, 9, 7, 7, 2, 7, 5, 4, 2, 2, 0, 6, 4, 9, 9, 5, 8, 0, 4, 4, 1, 3, 7, 9, 0, 0, 9, 8, 5, 0, 0, 7, 1, 9, 5, 8, 4, 0, 9, 9, 1, 2, 0, 6, 2, 4, 5, 1, 0, 2, 8, 3, 4, 8, 6, 6, 0, 0, 3, 0, 7, 4, 4, 1, 7, 4, 0, 7, 9, 9, 1, 7, 5, 9, 1, 4, 6, 1, 6, 8, 4, 5, 9, 8, 0, 6, 2, 7, 4, 7, 5, 0, 8, 7, 8, 2, 4, 9, 6, 5, 5, 9, 9, 4, 4, 6, 0, 0, 0, 8, 7, 6, 2, 7, 5, 2, 9, 0, 3, 6, 4, 8, 4, 0, 2, 7, 0, 5, 6, 6, 4, 8, 0, 0, 4, 0, 4, 5, 5, 8, 0, 7, 0, 8, 9, 0, 2, 1, 4, 5, 1, 0, 4, 9, 6, 4, 9, 9, 1, 4, 3, 1, 2, 8, 0, 3, 6, 2, 2, 0, 4, 3, 8, 5, 2, 3, 4, 0, 8, 5, 4, 0, 1, 2, 4, 2, 6, 7, 9, 6, 4, 6, 3, 0, 8, 5, 4, 6, 0, 3, 3, 5, 2, 5, 1, 5, 5, 1, 9, 5, 2, 1, 8, 8, 0, 9, 0, 0, 0, 3, 6, 1, 8, 0, 4, 2, 1, 2, 6, 3, 0, 8, 5, 1, 5, 0, 2, 0, 3, 9, 8, 6, 6, 1, 0, 2, 6, 2, 6, 3, 7, 5, 0, 6, 2, 0, 8, 2, 2, 1, 8, 6, 8, 2, 9, 2, 6, 8, 5, 2, 7, 3, 2, 6, 0, 0, 4, 8, 5, 6, 1, 5, 2, 8, 2, 9, 0, 6, 3, 6, 4, 2, 7, 7, 9, 0, 4, 9, 8, 0, 5, 8, 7, 7, 0, 7, 7, 0, 7, 7, 2, 9, 7, 4, 2, 2, 3, 8, 0, 1, 9, 8, 0, 6, 6, 8, 0, 8, 0, 7, 6, 3, 3, 8, 1, 3, 8, 7, 3, 0, 3, 4, 8, 8, 9, 1, 3, 6, 1, 4, 8, 0, 4, 6, 7, 3, 9, 4, 9, 0, 4, 6, 5, 7, 0, 8, 1, 7, 5, 4, 9, 5, 7, 3, 2, 0, 9, 8, 7, 3, 7, 7, 4, 7, 5, 8, 5, 4, 4, 4, 2, 3, 8, 9, 7, 1, 3, 4, 2, 9, 7, 1, 4, 2, 0, 0, 5, 5, 4, 5, 2, 8, 9, 4, 9, 9, 1, 4, 0, 1, 5, 5, 5, 4, 8, 1, 5, 5, 7, 7, 9, 6, 3, 1, 1, 4, 6, 6, 9, 3, 4, 4, 4, 8, 6, 5, 6, 9, 0, 2, 8, 4, 8, 6, 4, 6, 1, 4, 3, 3, 8, 4, 9, 9, 0, 7, 9, 5, 3, 1, 7, 2, 8, 4, 9, 0, 1, 0, 0, 8, 8, 1, 9, 3, 0, 8, 1, 8, 4, 2, 5, 6, 9, 0, 1, 6, 0, 7, 9, 0, 1, 3, 9, 5, 1, 2, 1, 1, 3, 8, 0, 9, 5, 4, 4, 3, 7, 7, 7, 2, 3, 9, 1, 9, 4, 4, 0, 7, 6, 0, 7, 9, 0, 3, 4, 9, 0, 4, 0, 2, 7, 9, 6, 1, 1, 2, 0, 8, 8, 7, 4, 2, 7, 5, 7, 6, 1, 8, 1, 4, 9, 8, 9, 6, 1, 0, 6, 0, 3, 0, 6, 4, 1, 9, 7, 1, 2, 2, 5, 3, 4, 1, 7, 4, 7, 0, 2, 8, 8, 1, 4, 9, 9, 6, 0, 4, 9, 3, 9, 8, 5, 3, 8, 4, 7, 1, 4, 1, 9, 6, 8, 1, 2, 4, 8, 1, 1, 5, 8, 6, 1, 6, 2, 9, 0, 9, 5, 3, 5, 0, 6, 5, 6, 8, 3, 8, 0, 2, 9, 9, 1, 5, 3, 2, 6, 5, 3, 6, 0, 0, 7, 4, 0, 2, 1, 9, 5, 1, 7, 5, 5, 5, 9, 6, 8, 2, 2, 0, 4, 4, 4, 1, 1, 4, 2, 8, 2, 9, 0, 5, 8, 1, 3, 8, 3, 2, 4, 8, 6, 6, 9, 3, 6, 9, 7, 4, 0, 2, 2, 8, 9, 6, 1, 4, 7, 9, 9, 7, 3, 4, 9, 4, 7, 3, 0, 2, 0, 9, 4, 3, 3, 1, 9, 5, 8, 2, 3, 5, 0, 0, 4, 5, 8, 3, 5, 0, 7, 7, 6, 0, 9, 5, 1, 4, 4, 5, 3, 0, 6, 1, 4, 0, 5, 4, 8, 5, 7, 6, 6, 8, 3, 5, 4, 6, 9, 8, 9, 9, 8, 1, 9, 5, 0, 1, 5, 4, 0, 3, 3, 4, 6, 3, 6, 7, 8, 0, 9, 0, 6, 0, 4, 2, 7, 3, 5, 7, 3, 7, 8, 6, 6, 4, 4, 3, 1, 0, 5, 5, 2, 6, 4, 1, 1, 4, 7, 2, 3, 5, 5, 0, 4, 4, 4, 8, 9, 9, 2, 0, 9, 5, 3, 7, 3, 1, 4, 5, 0, 1, 8, 5, 8, 4, 0, 7, 8, 9, 2, 4, 6, 4, 6, 2, 4, 7, 9, 1, 9, 7, 4, 5, 6, 3, 2, 4, 5, 6, 6, 5, 8, 0, 6, 2, 9, 4, 7, 8, 0, 0, 2, 7, 7, 5, 9, 7, 7, 3, 8, 7, 5, 9, 9, 8, 2, 1, 0, 8, 0, 2, 6, 7, 9, 2, 4, 5, 4, 3, 4, 1, 1, 9, 0, 5, 5, 4, 9, 8, 9, 6, 5, 4, 0, 0, 5, 7, 8, 4, 8, 8, 7, 6, 9, 3, 9, 6, 9, 7, 3, 9, 9, 3, 6, 6, 2, 8, 7, 9, 6, 0, 4, 4, 1, 0, 3, 8, 4, 8, 4, 4, 6, 3, 9, 7, 7, 8, 5, 6, 3, 2, 1, 8, 3, 2, 7, 4, 2, 3, 0, 8, 3, 3, 4, 9, 0, 9, 7, 0, 1, 8, 3, 0, 3, 8, 6, 8, 5, 1, 3, 6, 1, 9, 3, 5, 0, 4, 2, 0, 1, 5, 3, 2, 8, 5, 7, 8, 0, 1, 1, 0, 6, 2, 5, 9, 0, 7, 2, 3, 6, 4, 4, 3, 3, 9, 4, 7, 0, 8, 4, 5, 6, 4, 0, 1, 3, 9, 4, 2, 5, 0, 5, 3, 6, 5, 0, 0, 0, 0, 0, 9, 1, 3, 3, 6, 5, 5, 4, 6, 1, 4, 9, 9, 4, 4, 7, 5, 7, 1, 4, 8, 7, 9, 7, 7, 0, 2, 9, 2, 7, 0, 7, 8, 4, 5, 2, 7, 4, 3, 6, 5, 9, 2, 5, 7, 7, 3, 8, 0, 9, 6, 5, 3, 0, 7, 0, 9, 5, 1, 3, 6, 9, 1, 4, 6, 5, 1, 4, 9, 9, 1, 2, 6, 2, 4, 0, 8, 7, 9, 9, 4, 8, 8, 9, 0, 7, 0, 4, 6, 8, 8, 4, 6, 0, 1, 4, 0, 2, 1, 5, 4, 6, 6, 0, 3, 4, 5, 6, 8, 7, 2, 0, 3, 1, 8, 6, 8, 9, 9, 5, 5, 8, 2, 5, 4, 4, 4, 5, 6, 9, 2, 9, 1, 0, 2, 4, 0, 9, 8, 0, 4, 9, 1, 9, 4, 7, 3, 5, 4, 3, 4, 2, 1, 0, 2, 6, 3, 7, 8, 4, 5, 5, 9, 0, 4, 3, 4, 5, 5, 5, 7, 6, 1, 3, 3, 7, 0, 5, 7, 0, 8, 3, 5, 5, 8, 1, 9, 4, 0, 4, 6, 1, 6, 0, 1, 2, 5, 0, 8, 1, 1, 7, 8, 2, 5, 9, 0, 8, 0, 4, 4, 4, 7, 0, 7, 0, 3, 2, 1, 7, 1, 6, 2, 3, 6, 0, 0, 6, 4, 8, 7, 0, 0, 6, 4, 7, 3, 0, 6, 0, 2, 4, 4, 1, 8, 1, 9, 1, 2, 2, 4, 2, 5, 3, 3, 5, 3, 5, 8, 3, 9, 7, 4, 0, 0, 1, 0, 1, 0, 7, 7, 6, 8, 9, 6, 1, 5, 4, 9, 4, 7, 9, 9, 9, 6, 1, 0, 9, 9, 5, 1, 7, 2, 9, 1, 5, 6, 8, 1, 7, 3, 3, 8, 4, 7, 8, 8, 9, 8, 8, 4, 5, 6, 4, 5, 9, 0, 0, 5, 3, 7, 7, 4, 4, 7, 4, 5, 8, 3, 7, 4, 7, 0, 8, 8, 8, 7, 8, 6, 0, 5, 7, 9, 8, 5, 6, 0, 6, 6, 6, 6, 8, 9, 9, 1, 9, 5, 8, 4, 4, 6, 4, 2, 7, 2, 8, 1, 0, 7, 8, 8, 3, 9, 9, 5, 9, 2, 4, 9, 7, 5, 7, 4, 9, 9, 2, 3, 9, 5, 3, 5, 3, 1, 2, 9, 1, 2, 8, 5, 1, 7, 9, 0, 3, 3, 0, 9, 0, 4, 6, 0, 0, 2, 9, 7, 1, 9, 4, 5, 2, 8, 5, 9, 5, 2, 4, 2, 5, 4, 2, 5, 4, 2, 7, 1, 6, 6, 4, 4, 5, 6, 4, 6, 9, 5, 5, 1, 7, 4, 6, 4, 2, 4, 1, 9, 0, 7, 2, 7, 4, 2, 9, 7, 4, 4, 0, 1, 7, 1, 4, 7, 0, 1, 7, 3, 0, 3, 8, 6, 8, 0, 4, 1, 7, 9, 0, 2, 9, 2, 0, 7, 1, 7, 5, 2, 9, 8, 4, 4, 0, 3, 3, 2, 2, 8, 1, 0, 8, 1, 8, 1, 0, 1, 6, 7, 3, 7, 7, 3, 3, 9, 9, 0, 2, 2, 5, 8, 9, 0, 3, 7, 4, 1, 0, 9, 4, 3, 2, 0, 1, 8, 1, 4, 4, 0, 6, 1, 7, 0, 5, 6, 5, 3, 0, 4, 1, 6, 0, 7, 2, 6, 2, 3, 6, 6, 5, 2, 9, 6, 8, 0, 4, 6, 0, 1, 7, 5, 2, 3, 3, 2, 0, 3, 5, 2, 6, 2, 5, 1, 4, 2, 2, 1, 9, 3, 6, 6, 9, 5, 8, 0, 0, 3, 2, 0, 8, 1, 2, 3, 3, 1, 5, 5, 0, 2, 6, 7, 1, 3, 2, 3, 0, 0, 2, 4, 8, 0, 8, 4, 7, 0, 3, 1, 3, 8, 3, 4, 1, 2, 6, 0, 0, 7, 7, 8, 3, 6, 9, 5, 4, 0, 9, 9, 4, 0, 8, 7, 3, 8, 3, 7, 9, 0, 2, 5, 1, 0, 5, 6, 3, 9, 7, 9, 6, 0, 7, 1, 0, 0, 8, 6, 2, 2, 9, 8, 2, 2, 4, 4, 9, 7, 3, 4, 5, 4, 5, 1, 9, 5, 0, 5, 6, 4, 1, 7, 9, 0, 3, 3, 6, 9, 1, 0, 1, 9, 5, 6, 8, 2, 4, 1, 4, 0, 0, 7, 9, 0, 1, 1, 4, 1, 0, 9, 8, 1, 3, 7, 3, 9, 9, 9, 4, 2, 3, 6, 8, 8, 5, 5, 1, 8, 8, 5, 7, 9, 9, 3, 4, 6, 2, 7, 9, 4, 6, 7, 5, 4, 7, 6, 1, 4, 6, 2, 0, 9, 6, 0, 5, 1, 1, 7, 8, 3, 2, 6, 2, 0, 6, 4, 9, 5, 2, 4, 6, 4, 6, 1, 5, 6, 7, 8, 6, 7, 7, 0, 8, 4, 0, 4, 9, 1, 2, 1, 7, 4, 3, 2, 9, 9, 2, 6, 4, 3, 0, 5, 7, 5, 2, 7, 8, 9, 9, 2, 7, 8, 7, 7, 5, 8, 7, 6, 6, 9, 0, 1, 8, 7, 5, 2, 5, 3, 7, 4, 6, 5, 5, 6, 9, 9, 1, 9, 5, 9, 4, 4, 1, 9, 8, 3, 5, 1, 8, 6, 5, 3, 2, 3, 7, 1, 1, 1, 8, 7, 5, 6, 4, 4, 7, 0, 0, 5, 3, 4, 8, 6, 5, 2, 7, 0, 2, 3, 4, 7, 8, 0, 7, 0, 9, 5, 8, 0, 7, 3, 5, 0, 9, 7, 3, 0, 0, 5, 7, 8, 4, 3, 1, 9, 0, 2, 9, 1, 1, 4, 6, 4, 0, 6, 2, 4, 8, 6, 6, 9, 5, 0, 1, 8, 6, 4, 1, 2, 2, 9, 4, 3, 7, 9, 6, 3, 5, 4, 5, 9, 8, 5, 3, 0, 1, 2, 6, 4, 1, 9, 4, 4, 0, 5, 5, 4, 6, 2, 0, 1, 4, 9, 9, 7, 0, 1, 2, 6, 0, 6, 6, 2, 5, 9, 4, 8, 4, 6, 1, 5, 9, 4, 1, 8, 9, 3, 1, 7, 1, 1, 1, 9, 1, 3, 8, 9, 9, 1, 9, 6, 0, 5, 8, 5, 9, 9, 3, 8, 9, 6, 7, 8, 2, 9, 2, 0, 1, 5, 0, 7, 3, 0, 0, 9, 1, 1, 8, 4, 8, 9, 2, 0, 7, 2, 0, 0, 5, 1, 6, 8, 2, 0, 7, 6, 6, 9, 7, 6, 1, 3, 9, 6, 4, 0, 3, 7, 7, 1, 1, 9, 5, 0, 5, 4, 6, 4, 1, 5, 2, 1, 0, 2, 5, 9, 9, 4, 6, 4, 1, 7, 9, 0, 5, 7, 3, 3, 8, 4, 1, 8, 2, 7, 4, 4, 8, 9, 4, 9, 3, 6, 4, 1, 1, 0, 4, 1, 4, 7, 8, 5, 9, 1, 7, 0, 9, 4, 4, 1, 7, 2, 9, 8, 8, 9, 8, 5, 3, 8, 6, 0, 1, 6, 1, 1, 9, 1, 9, 7, 5, 3, 2, 9, 5, 5, 4, 6, 9, 9, 3, 0, 6, 4, 1, 7, 4, 9, 2, 8, 5, 8, 6, 0, 1, 3, 2, 2, 3, 0, 6, 6, 2, 8, 3, 2, 4, 0, 1, 6, 4, 0, 4, 2, 3, 9, 0, 2, 3, 4, 5, 2, 2, 7, 0, 7, 3, 3, 6, 9, 4, 8, 5, 6, 0, 3, 6, 7, 2, 5, 3, 1, 1, 9, 7, 5, 4, 2, 1, 6, 4, 5, 9, 2, 5, 5, 0, 1, 0, 9, 6, 4, 2, 6, 6, 4, 9, 2, 3, 0, 6, 2, 0, 4, 1, 3, 9, 2, 4, 2, 2, 3, 2, 3, 0, 8, 3, 5, 1, 2, 0, 8, 2, 1, 2, 1, 1, 9, 6, 7, 9, 0, 8, 0, 3, 2, 3, 6, 3, 7, 5, 2, 1, 1, 2, 0, 5, 5, 0, 1, 0, 5, 2, 8, 9, 7, 9, 1, 1, 3, 3, 5, 6, 7, 9, 9, 4, 9, 3, 6, 6, 2, 8, 5, 6, 5, 9, 8, 3, 8, 1, 0, 1, 3, 5, 2, 5, 6, 4, 9, 6, 7, 1, 6, 8, 3, 7, 7, 6, 7, 9, 4, 7, 7, 0, 1, 4, 1, 2, 8, 6, 4, 7, 4, 7, 1, 8, 7, 5, 1, 3, 1, 0, 3, 4, 5, 3, 8, 6, 3, 4, 9, 3, 1, 5, 3, 0, 7, 0, 6, 4, 5, 1, 4, 6, 2, 8, 3, 9, 8, 0, 7, 2, 6, 2, 5, 1, 9, 6, 0, 8, 7, 1, 8, 1, 2, 0, 9, 2, 4, 4, 4, 6, 1, 3, 5, 2, 9, 7, 5, 6, 7, 5, 5, 2, 4, 8, 0, 7, 0, 8, 6, 2, 1, 7, 7, 7, 0, 8, 0, 3, 0, 9, 8, 5, 0, 4, 8, 1, 5, 7, 7, 0, 1, 6, 1, 3, 4, 6, 2, 6, 1, 7, 6, 2, 6, 6, 1, 8, 2, 2, 6, 3, 0, 8, 8, 4, 4, 2, 0, 7, 0, 8, 9, 1, 4, 6, 7, 0, 8, 1, 8, 6, 4, 6, 7, 8, 7, 9, 9, 3, 9, 4, 4, 0, 6, 1, 4, 8, 4, 4, 7, 0, 6, 2, 9, 1, 8, 0, 0, 4, 2, 0, 3, 6, 6, 1, 3, 2, 3, 4, 1, 7, 8, 1, 0, 7, 0, 5, 0, 3, 2, 8, 9, 8, 7, 8, 4, 5, 9, 7, 5, 1, 4, 4, 7, 2, 9, 7, 8, 0, 7, 4, 6, 0, 8, 8, 4, 5, 1, 8, 2, 4, 2, 2, 9, 8, 9, 0, 2, 7, 9, 3, 5, 9, 8, 4, 3, 9, 5, 9, 3, 0, 8, 6, 0, 0, 3, 5, 8, 0, 0, 1, 8, 2, 9, 0, 0, 7, 6, 0, 2, 9, 6, 8, 8, 2, 0, 3, 6, 7, 1, 4, 7, 4, 6, 9, 1, 6, 5, 2, 0, 7, 9, 6, 6, 8, 2, 1, 1, 8, 8, 0, 5, 7, 7, 6, 7, 4, 3, 9, 3, 8, 9, 0, 6, 0, 4, 5, 7, 0, 4, 4, 9, 5, 7, 4, 2, 5, 8, 3, 1, 3, 7, 4, 9, 4, 3, 9, 7, 2, 0, 8, 6, 9, 1, 9, 9, 0, 7, 1, 4, 5, 0, 3, 8, 7, 4, 9, 5, 9, 3, 2, 0, 6, 9, 0, 5, 0, 1, 3, 7, 9, 1, 5, 9, 0, 0, 9, 7, 2, 9, 2, 1, 2, 7, 5, 1, 0, 7, 3, 4, 7, 6, 4, 6, 8, 5, 7, 9, 5, 7, 3, 6, 3, 7, 0, 6, 1, 5, 6, 9, 7, 6, 0, 2, 5, 8, 0, 5, 7, 3, 4, 0, 4, 8, 2, 0, 6, 9, 8, 9, 6, 5, 0, 6, 0, 6, 6, 3, 1, 8, 7, 4, 1, 9, 1, 2, 2, 5, 4, 6, 0, 0, 6, 6, 0, 7, 6, 1, 8, 6, 8, 7, 9, 4, 1, 6, 5, 7, 7, 3, 2, 5, 9, 3, 6, 7, 3, 2, 6, 9, 6, 7, 3, 9, 1, 2, 1, 9, 7, 2, 3, 3, 8, 1, 8, 3, 5, 0, 5, 3, 8, 7, 7, 6, 9, 0, 0, 8, 4, 2, 3, 3, 4, 3, 7, 8, 7, 1, 3, 7, 6, 9, 5, 5, 2, 4, 4, 5, 0, 8, 3, 0, 4, 0, 8, 8, 9, 6, 9, 1, 5, 1, 2, 1, 4, 2, 6, 2, 4, 5, 7, 5, 9, 2, 0, 5, 5, 0, 5, 4, 5, 0, 0, 4, 0, 7, 1, 5, 6, 9, 2, 1, 7, 6, 4, 4, 0, 7, 1, 8, 5, 7, 8, 5, 5, 1, 8, 5, 7, 7, 7, 6, 5, 2, 2, 1, 2, 2, 4, 1, 0, 0, 9, 1, 8, 2, 3, 7, 4, 9, 5, 9, 4, 3, 9, 5, 0, 6, 2, 7, 3, 9, 0, 0, 5, 9, 0, 9, 4, 0, 6, 5, 7, 1, 4, 5, 6, 0, 2, 3, 1, 1, 1, 7, 4, 2, 2, 5, 9, 8, 7, 7, 0, 4, 7, 9, 6, 0, 1, 1, 1, 4, 8, 0, 8, 0, 9, 7, 6, 7, 6, 8, 2, 4, 4, 4, 2, 6, 5, 7, 4, 9, 7, 2, 2, 2, 0, 7, 4, 5, 2, 3, 3, 1, 9, 8, 1, 8, 2, 2, 3, 9, 1, 9, 7, 2, 9, 6, 9, 3, 0, 4, 2, 6, 4, 6, 0, 9, 2, 1, 1, 0, 5, 0, 7, 0, 4, 1, 1, 7, 0, 0, 1, 9, 6, 7, 3, 7, 6, 1, 2, 6, 2, 0, 3, 0, 2, 3, 5, 9, 5, 8, 9, 3, 1, 7, 8, 9, 4, 1, 1, 9, 0, 7, 0, 0, 9, 6, 0, 4, 9, 6, 8, 5, 5, 9, 3, 3, 5, 7, 1, 2, 3, 3, 5, 6, 0, 4, 1, 1, 9, 1, 4, 0, 0, 6, 2, 6, 6, 0, 6, 5, 0, 3, 0, 5, 1, 1, 8, 4, 5, 3, 5, 1, 6, 4, 3, 1, 6, 7, 9, 6, 3, 8, 5, 4, 6, 9, 1, 5, 7, 7, 4, 2, 2, 7, 9, 6, 1, 5, 7, 7, 8, 6, 8, 3, 7, 4, 0, 2, 9, 9, 0, 2, 7, 3, 1, 0, 8, 2, 4, 4, 4, 7, 1, 8, 4, 0, 3, 4, 6, 6, 9, 8, 0, 0, 8, 3, 9, 2, 1, 5, 2, 5, 0, 6, 4, 2, 5, 9, 3, 0, 4, 7, 8, 5, 9, 5, 0, 0, 6, 9, 7, 6, 9, 2, 2, 2, 4, 0, 1, 6, 3, 9, 4, 0, 3, 4, 2, 0, 9, 4, 7, 6, 5, 4, 3, 4, 5, 7, 0, 2, 1, 1, 8, 7, 1, 2, 0, 9, 4, 3, 8, 8, 8, 9, 6, 8, 9, 2, 0, 3, 6, 8, 2, 8, 8, 5, 9, 2, 7, 1, 9, 0, 3, 3, 3, 2, 3, 9, 9, 8, 3, 0, 4, 2, 4, 6, 4, 5, 4, 4, 9, 8, 5, 8, 3, 4, 1, 4, 8, 9, 2, 6, 2, 3, 5, 0, 3, 5, 2, 5, 0, 9, 1, 2, 9, 8, 9, 0, 8, 8, 5, 5, 8, 6, 4, 1, 8, 3, 0, 4, 9, 6, 1, 0, 5, 1, 2, 0, 9, 2, 6, 3, 6, 7, 2, 6, 4, 3, 8, 5, 1, 8, 3, 4, 4, 5, 0, 0, 7, 8, 7, 4, 6, 2, 0, 9, 3, 5, 0, 9, 9, 0, 1, 3, 7, 1, 9, 6, 5, 2, 6, 9, 5, 7, 9, 1, 2, 8, 3, 1, 7, 8, 8, 6, 8, 0, 5, 5, 7, 1, 9, 6, 2, 1, 5, 1, 9, 0, 1, 0, 3, 2, 5, 3, 9, 3, 5, 4, 0, 6, 9, 9, 4, 2, 3, 8, 5, 8, 0, 0, 4, 1, 4, 9, 5, 8, 9, 5, 4, 4, 9, 5, 9, 1, 1, 1, 8, 4, 1, 4, 6, 9, 9, 8, 9, 7, 4, 4, 1, 9, 9, 1, 9, 6, 2, 3, 7, 3, 1, 6, 0, 8, 3, 4, 0, 3, 8, 6, 7, 1, 0, 3, 8, 4, 7, 9, 8, 0, 3, 0, 4, 5, 7, 0, 7, 0, 5, 0, 2, 6, 3, 3, 0, 0, 4, 4, 4, 4, 4, 9, 9, 6, 7, 4, 0, 4, 2, 1, 9, 5, 9, 9, 0, 5, 8, 2, 7, 3, 9, 5, 2, 8, 9, 5, 8, 0, 0, 3, 0, 6, 3, 7, 8, 0, 1, 2, 2, 6, 1, 1, 6, 2, 2, 5, 4, 6, 9, 3, 6, 6, 3, 7, 2, 9, 2, 1, 4, 7, 5, 5, 9, 2, 0, 9, 7, 9, 7, 4, 1, 8, 3, 3, 8, 0, 0, 9, 0, 7, 7, 9, 6, 4, 0, 3, 7, 6, 1, 5, 6, 0, 5, 8, 6, 7, 0, 1, 0, 5, 6, 2, 1, 4, 1, 8, 7, 9, 9, 7, 3, 2, 2, 4, 7, 6, 3, 9, 6, 3, 9, 5, 1, 0, 9, 8, 7, 2, 1, 5, 7, 2, 7, 6, 8, 7, 5, 4, 5, 9, 4, 3, 5, 0, 2, 5, 5, 3, 1, 9, 6, 7, 1, 0, 3, 4, 6, 4, 5, 9, 2, 1, 1, 7, 7, 7, 0, 1, 4, 8, 9, 2, 5, 6, 7, 8, 7, 7, 0, 8, 5, 0, 0, 5, 5, 6, 7, 7, 9, 7, 1, 0, 0, 8, 0, 4, 0, 6, 4, 5, 5, 0, 5, 3, 0, 6, 5, 0, 7, 1, 8, 7, 1, 6, 2, 0, 4, 7, 3, 7, 4, 8, 6, 3, 9, 4, 0, 0, 0, 8, 7, 3, 3, 0, 5, 6, 1, 5, 0, 9, 9, 1, 3, 0, 6, 1, 2, 0, 5, 5, 6, 4, 0, 9, 6, 0, 8, 4, 8, 3, 7, 7, 3, 3, 9, 5, 7, 6, 0, 9, 4, 5, 0, 7, 2, 9, 5, 5, 8, 7, 4, 9, 9, 6, 3, 6, 3, 0, 2, 7, 6, 4, 2, 7, 4, 1, 5, 7, 9, 7, 3, 9, 8, 6, 5, 1, 9, 6, 1, 0, 4, 8, 0, 7, 6, 9, 8, 8, 3, 4, 6, 1, 7, 7, 1, 1, 6, 7, 0, 3, 2, 8, 7, 8, 9, 9, 1, 1, 3, 8, 7, 5, 9, 1, 0, 6, 3, 4, 4, 4, 7, 1, 6, 0, 1, 5, 6, 4, 9, 6, 4, 2, 4, 6, 7, 9, 6, 7, 1, 4, 0, 8, 3, 0, 5, 6, 0, 8, 3, 6, 4, 0, 1, 8, 2, 0, 2, 7, 5, 4, 4, 5, 2, 1, 6, 4, 4, 5, 8, 6, 7, 3, 2, 6, 7, 2, 2, 3, 4, 4, 4, 0, 3, 4, 5, 1, 7, 5, 2, 5, 7, 9, 9, 9, 9, 2, 0, 9, 2, 0, 5, 5, 5, 0, 5, 6, 6, 0, 0, 6, 9, 9, 6, 6, 5, 4, 0, 1, 0, 8, 9, 5, 7, 3, 0, 4, 4, 1, 6, 8, 1, 8, 4, 6, 6, 9, 8, 5, 1, 4, 6, 0, 9, 6, 8, 8, 0, 7, 0, 6, 9, 8, 9, 9, 6, 9, 4, 3, 3, 2, 9, 0, 8, 0, 4, 6, 3, 0, 0, 0, 3, 3, 5, 9, 4, 7, 1, 5, 6, 1, 4, 1, 7, 9, 4, 0, 4, 5, 6, 9, 4, 9, 8, 8, 7, 6, 2, 3, 9, 3, 6, 7, 0, 2, 7, 0, 6, 1, 0, 5, 7, 0, 5, 9, 6, 3, 4, 8, 5, 8, 1, 9, 2, 7, 6, 7, 3, 6, 2, 5, 8, 8, 8, 8, 7, 4, 0, 5, 1, 5, 9, 6, 0, 9, 5, 8, 5, 7, 3, 9, 8, 3, 4, 0, 5, 7, 5, 1, 1, 5, 4, 1, 8, 9, 8, 4, 9, 6, 3, 3, 4, 0, 2, 4, 1, 1, 4, 7, 2, 9, 0, 2, 8, 8, 8, 8, 7, 7, 1, 2, 6, 2, 1, 6, 0, 2, 5, 8, 2, 4, 2, 6, 1, 5, 5, 4, 4, 0, 5, 6, 7, 0, 3, 4, 5, 5, 7, 5, 7, 0, 1, 1, 9, 7, 7, 0, 1, 9, 6, 3, 6, 5, 4, 0, 4, 5, 7, 2, 2, 2, 3, 5, 6, 4, 3, 7, 8, 6, 2, 6, 1, 6, 7, 5, 6, 5, 3, 6, 8, 5, 8, 6, 4, 1, 4, 3, 7, 2, 9, 0, 4, 7, 2, 3, 6, 9, 5, 5, 9, 4, 0, 4, 1, 1, 8, 9, 4, 4, 2, 3, 3, 0, 7, 1, 8, 8, 5, 0, 4, 7, 7, 1, 0, 1, 4, 1, 9, 0, 6, 1, 1, 0, 7, 0, 7, 2, 9, 0, 1, 8, 9, 0, 6, 6, 0, 9, 1, 6, 1, 2, 7, 8, 0, 5, 6, 8, 2, 5, 5, 1, 5, 9, 1, 8, 5, 6, 1, 2, 2, 3, 7, 3, 5, 4, 8, 0, 7, 1, 2, 0, 9, 8, 3, 8, 7, 7, 9, 7, 0, 9, 4, 0, 9, 6, 1, 9, 8, 6, 3, 7, 2, 9, 5, 4, 7, 1, 2, 1, 6, 6, 9, 6, 0, 7, 6, 0, 5, 5, 4, 0, 9, 9, 1, 6, 7, 7, 7, 4, 5, 1, 4, 0, 6, 3, 8, 9, 8, 4, 1, 0, 8, 3, 9, 8, 8, 7, 8, 3, 6, 0, 7, 6, 8, 0, 9, 9, 6, 7, 7, 2, 2, 1, 5, 6, 4, 0, 5, 5, 0, 8, 4, 7, 8, 9, 4, 2, 1, 7, 4, 2, 4, 9, 4, 3, 6, 0, 9, 7, 8, 0, 9, 1, 2, 6, 2, 9, 7, 1, 9, 9, 3, 3, 1, 4, 3, 5, 6, 3, 7, 4, 1, 4, 6, 2, 7, 5, 4, 6, 7, 7, 8, 1, 8, 1, 2, 2, 7, 5, 0, 1, 4, 6, 6, 1, 4, 0, 7, 6, 5, 8, 2, 8, 4, 5, 0, 0, 1, 7, 9, 7, 3, 9, 4, 0, 4, 8, 7, 1, 0, 8, 7, 6, 2, 4, 8, 2, 8, 0, 1, 7, 3, 8, 1, 7, 2, 9, 6, 7, 9, 5, 1, 8, 0, 0, 9, 0, 6, 2, 4, 2, 7, 6, 0, 9, 8, 8, 1, 5, 7, 7, 1, 7, 5, 4, 4, 0, 7, 8, 7, 0, 7, 0, 4, 5, 5, 4, 6, 7, 6, 0, 0, 6, 0, 4, 7, 8, 2, 8, 0, 1, 5, 3, 8, 3, 9, 7, 1, 7, 1, 0, 6, 8, 5, 0, 0, 6, 4, 1, 1, 2, 9, 0, 6, 6, 1, 3, 6, 7, 0, 1, 8, 5, 7, 0, 0, 5, 6, 4, 6, 6, 2, 5, 6, 1, 8, 2, 1, 7, 3, 8, 8, 9, 9, 0, 1, 8, 1, 4, 9, 0, 3, 1, 1, 4, 7, 8, 3, 4, 9, 6, 2, 8, 6, 8, 4, 9, 4, 7, 7, 0, 4, 6, 4, 5, 7, 3, 7, 6, 6, 0, 9, 6, 0, 5, 4, 1, 2, 1, 8, 1, 9, 4, 8, 9, 9, 3, 3, 7, 0, 0, 6, 1, 0, 6, 6, 4, 6, 2, 9, 0, 6, 6, 4, 0, 0, 1, 3, 8, 6, 5, 7, 9, 6, 2, 3, 7, 9, 1, 2, 7, 7, 5, 8, 0, 9, 1, 0, 1, 4, 9, 1, 2, 5, 6, 3, 0, 7, 1, 2, 7, 9, 3, 7, 6, 4, 4, 6, 7, 2, 7, 0, 1, 7, 8, 8, 7, 0, 1, 6, 0, 9, 7, 5, 9, 1, 2, 0, 4, 7, 4, 3, 6, 1, 7, 5, 7, 8, 9, 6, 0, 3, 1, 4, 7, 9, 0, 2, 7, 8, 4, 7, 4, 0, 8, 3, 0, 1, 7, 9, 6, 9, 1, 4, 2, 7, 1, 0, 6, 3, 7, 6, 1, 8, 6, 5, 9, 5, 8, 1, 0, 9, 6, 6, 6, 1, 1, 4, 7, 0, 0, 7, 9, 6, 9, 5, 4, 0, 4, 7, 2, 0, 8, 3, 8, 1, 1, 2, 4, 8, 1, 0, 8, 1, 8, 9, 3, 2, 7, 0, 2, 4, 9, 4, 2, 4, 9, 9, 0, 9, 9, 6, 7, 3, 4, 3, 3, 9, 6, 7, 7, 8, 1, 1, 6, 4, 5, 7, 9, 4, 7, 4, 7, 0, 4, 4, 9, 7, 7, 7, 5, 0, 1, 2, 3, 6, 6, 6, 0, 9, 8, 7, 8, 4, 2, 8, 9, 7, 1, 6, 7, 9, 9, 0, 1, 5, 1, 1, 3, 6, 7, 9, 8, 3, 0, 8, 5, 2, 4, 3, 6, 8, 0, 9, 6, 6, 9, 0, 1, 6, 8, 1, 8, 2, 1, 8, 1, 7, 1, 9, 1, 8, 3, 9, 4, 1, 0, 8, 4, 6, 4, 8, 2, 2, 5, 5, 0, 2, 6, 9, 8, 0, 1, 0, 0, 4, 8, 3, 4, 7, 7, 5, 9, 4, 5, 4, 6, 9, 9, 4, 8, 7, 2, 9, 6, 4, 0, 4, 8, 0, 1, 9, 2, 1, 6, 7, 0, 8, 7, 6, 4, 6, 4, 1, 1, 9, 8, 8, 9, 1, 2, 6, 0, 5, 2, 5, 0, 8, 3, 2, 3, 8, 6, 1, 5, 0, 3, 3, 1, 9, 2, 8, 7, 8, 2, 3, 6, 2, 5, 6, 9, 0, 7, 1, 1, 7, 9, 0, 1, 6, 7, 7, 4, 2, 3, 3, 2, 1, 0, 0, 9, 9, 8, 4, 9, 6, 2, 5, 4, 7, 2, 6, 5, 2, 0, 9, 3, 9, 0, 2, 0, 5, 6, 4, 3, 6, 6, 9, 8, 8, 6, 6, 0, 0, 1, 9, 4, 2, 8, 1, 9, 2, 4, 9, 3, 0, 2, 0, 8, 7, 0, 5, 0, 4, 3, 1, 3, 0, 9, 5, 4, 3, 7, 0, 6, 6, 9, 0, 7, 3, 5, 6, 8, 2, 1, 0, 0, 6, 5, 9, 6, 5, 0, 2, 0, 7, 4, 6, 8, 3, 6, 8, 8, 3, 8, 9, 4, 0, 2, 8, 3, 8, 0, 5, 7, 0, 3, 6, 8, 1, 5, 9, 6, 2, 8, 9, 6, 1, 0, 5, 8, 2, 6, 8, 2, 6, 0, 7, 4, 5, 3, 7, 4, 5, 8, 8, 3, 9, 9, 0, 6, 4, 6, 3, 6, 4, 9, 2, 5, 6, 5, 6, 3, 1, 7, 8, 6, 4, 7, 3, 3, 8, 0, 0, 9, 2, 8, 5, 4, 9, 6, 4, 4, 8, 0, 1, 1, 9, 2, 8, 2, 1, 9, 5, 8, 4, 8, 2, 3, 5, 2, 4, 4, 9, 6, 6, 2, 9, 8, 0, 5, 9, 4, 4, 5, 4, 1, 2, 7, 2, 4, 2, 7, 6, 6, 0, 0, 1, 5, 4, 0, 1, 9, 9, 5, 6, 5, 2, 9, 2, 6, 4, 5, 4, 8, 9, 0, 9, 7, 5, 5, 7, 9, 3, 4, 8, 4, 3, 9, 0, 1, 0, 4, 5, 2, 8, 7, 9, 7, 7, 7, 9, 4, 0, 0, 6, 7, 2, 1, 8, 0, 3, 8, 5, 0, 5, 6, 9, 1, 1, 2, 6, 8, 9, 7, 9, 5, 8, 6, 1, 4, 0, 1, 8, 4, 3, 4, 7, 9, 3, 7, 5, 5, 0, 9, 1, 4, 1, 6, 7, 4, 0, 9, 3, 6, 6, 1, 7, 6, 1, 6, 5, 9, 0, 0, 9, 7, 3, 8, 8, 6, 8, 5, 7, 0, 7, 0, 9, 6, 9, 6, 9, 4, 8, 5, 1, 0, 1, 6, 2, 4, 7, 4, 1, 7, 7, 8, 5, 7, 0, 4, 6, 2, 1, 3, 8, 0, 3, 6, 7, 5, 9, 1, 0, 4, 3, 7, 6, 6, 0, 1, 8, 4, 7, 2, 5, 9, 3, 1, 7, 1, 9, 2, 9, 6, 2, 6, 1, 8, 3, 9, 8, 4, 0, 4, 8, 4, 5, 1, 2, 4, 6, 4, 1, 8, 5, 7, 7, 7, 2, 5, 5, 7, 9, 9, 8, 2, 8, 2, 1, 3, 3, 4, 8, 9, 4, 0, 7, 0, 6, 8, 1, 6, 6, 1, 0, 5, 4, 9, 7, 2, 8, 7, 3, 7, 2, 1, 2, 1, 7, 4, 8, 8, 5, 0, 2, 0, 0, 1, 2, 6, 5, 0, 1, 5, 5, 4, 5, 1, 9, 8, 7, 1, 2, 7, 0, 9, 6, 1, 9, 0, 4, 2, 6, 5, 9, 9, 6, 2, 7, 1, 8, 1, 4, 6, 3, 7, 8, 4, 0, 4, 5, 1, 2, 9, 3, 5, 8, 0, 1, 9, 6, 7, 3, 7, 4, 4, 6, 0, 2, 1, 6, 3, 0, 7, 0, 5, 9, 8, 5, 3, 7, 9, 9, 6, 8, 8, 0, 1, 4, 4, 0, 2, 8, 1, 4, 1, 0, 3, 2, 7, 8, 7, 0, 4, 3, 4, 4, 5, 7, 9, 4, 5, 2, 4, 5, 0, 1, 7, 0, 7, 6, 0, 0, 3, 5, 1, 1, 4, 4, 6, 9, 8, 1, 0, 1, 4, 8, 5, 4, 0, 4, 0, 4, 9, 3, 8, 5, 4, 8, 6, 2, 8, 1, 4, 4, 0, 8, 7, 5, 2, 8, 9, 2, 9, 5, 9, 2, 1, 0, 4, 1, 7, 7, 1, 7, 3, 5, 8, 7, 2, 5, 1, 5, 2, 0, 0, 0, 1, 2, 4, 4, 8, 0, 3, 2, 6, 3, 5, 1, 6, 3, 6, 5, 1, 8, 3, 1, 8, 5, 8, 4, 2, 0, 3, 7, 8, 1, 4, 9, 0, 2, 8, 1, 4, 8, 8, 1, 0, 8, 7, 7, 5, 4, 7, 7, 0, 1, 8, 1, 9, 7, 0, 3, 1, 6, 5, 5, 3, 8, 9, 6, 0, 9, 5, 1, 7, 2, 1, 5, 2, 6, 3, 3, 0, 7, 1, 3, 4, 4, 5, 7, 0, 6, 7, 3, 3, 7, 8, 8, 2, 9, 6, 9, 7, 3, 2, 9, 3, 0, 5, 5, 0, 9, 1, 4, 1, 5, 6, 4, 1, 4, 0, 6, 3, 0, 3, 0, 8, 4, 7, 5, 5, 7, 0, 7, 9, 4, 6, 2, 9, 1, 9, 1, 8, 8, 8, 5, 8, 3, 8, 9, 3, 8, 0, 2, 1, 8, 4, 4, 0, 0, 9, 5, 3, 1, 5, 1, 3, 5, 0, 6, 2, 1, 7, 3, 0, 8, 2, 9, 0, 9, 0, 0, 4, 1, 2, 6, 6, 9, 1, 4, 9, 7, 4, 2, 6, 6, 9, 7, 8, 5, 0, 9, 0, 0, 0, 8, 1, 3, 6, 7, 5, 8, 4, 5, 6, 8, 9, 1, 9, 1, 8, 1, 7]\n",
            "              precision    recall  f1-score   support\n",
            "\n",
            " T-shirt/top       0.71      0.86      0.78      1000\n",
            "     Trouser       0.96      0.97      0.97      1000\n",
            "    Pullover       0.76      0.66      0.70      1000\n",
            "       Dress       0.93      0.72      0.81      1000\n",
            "        Coat       0.69      0.78      0.73      1000\n",
            "      Sandal       0.97      0.89      0.93      1000\n",
            "       Shirt       0.51      0.53      0.52      1000\n",
            "     Sneaker       0.90      0.94      0.92      1000\n",
            "         Bag       0.96      0.93      0.95      1000\n",
            "  Ankle Boot       0.92      0.96      0.94      1000\n",
            "\n",
            "    accuracy                           0.82     10000\n",
            "   macro avg       0.83      0.82      0.82     10000\n",
            "weighted avg       0.83      0.82      0.82     10000\n",
            "\n"
          ],
          "name": "stdout"
        },
        {
          "output_type": "display_data",
          "data": {
            "image/png": "[encoded data removed]",
            "text/plain": [
              "<Figure size 864x504 with 2 Axes>"
            ]
          },
          "metadata": {
            "tags": [],
            "needs_background": "light"
          }
        }
      ]
    },
    {
      "cell_type": "code",
      "metadata": {
        "id": "qGQ7hw_h6mtZ"
      },
      "source": [
        "#this is the above presenetation of our BDA project BY aishwarya, jatin kaushal and rakshitha!\n",
        "#Thank YOU ;)"
      ],
      "execution_count": null,
      "outputs": []
    }
  ]
}